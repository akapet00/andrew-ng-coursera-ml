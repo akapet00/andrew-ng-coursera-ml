{
 "cells": [
  {
   "cell_type": "markdown",
   "metadata": {},
   "source": [
    "# Logistic Regression"
   ]
  },
  {
   "cell_type": "markdown",
   "metadata": {},
   "source": [
    "## 1 Logistic regression"
   ]
  },
  {
   "cell_type": "markdown",
   "metadata": {},
   "source": [
    "In this part of the exercise, you will build a logistic regression model to predict whether a student gets admitted into a university.\n",
    "\n",
    "Suppose that you are the administrator of a university department and\n",
    "you want to determine each applicant’s chance of admission based on their results on two exams. You have historical data from previous applicants that you can use as a training set for logistic regression. For each training example, you have the applicant’s scores on two exams and the admissions decision.\n",
    "\n",
    "Your task is to build a classification model that estimates an applicant’s probability of admission based the scores from those two exams."
   ]
  },
  {
   "cell_type": "markdown",
   "metadata": {},
   "source": [
    "### 1.1 Visualizing the data"
   ]
  },
  {
   "cell_type": "code",
   "execution_count": 118,
   "metadata": {},
   "outputs": [
    {
     "data": {
      "text/html": [
       "<div>\n",
       "<style scoped>\n",
       "    .dataframe tbody tr th:only-of-type {\n",
       "        vertical-align: middle;\n",
       "    }\n",
       "\n",
       "    .dataframe tbody tr th {\n",
       "        vertical-align: top;\n",
       "    }\n",
       "\n",
       "    .dataframe thead th {\n",
       "        text-align: right;\n",
       "    }\n",
       "</style>\n",
       "<table border=\"1\" class=\"dataframe\">\n",
       "  <thead>\n",
       "    <tr style=\"text-align: right;\">\n",
       "      <th></th>\n",
       "      <th>exam1</th>\n",
       "      <th>exam2</th>\n",
       "      <th>accepted</th>\n",
       "    </tr>\n",
       "  </thead>\n",
       "  <tbody>\n",
       "    <tr>\n",
       "      <th>0</th>\n",
       "      <td>34.623660</td>\n",
       "      <td>78.024693</td>\n",
       "      <td>0</td>\n",
       "    </tr>\n",
       "    <tr>\n",
       "      <th>1</th>\n",
       "      <td>30.286711</td>\n",
       "      <td>43.894998</td>\n",
       "      <td>0</td>\n",
       "    </tr>\n",
       "    <tr>\n",
       "      <th>2</th>\n",
       "      <td>35.847409</td>\n",
       "      <td>72.902198</td>\n",
       "      <td>0</td>\n",
       "    </tr>\n",
       "    <tr>\n",
       "      <th>3</th>\n",
       "      <td>60.182599</td>\n",
       "      <td>86.308552</td>\n",
       "      <td>1</td>\n",
       "    </tr>\n",
       "    <tr>\n",
       "      <th>4</th>\n",
       "      <td>79.032736</td>\n",
       "      <td>75.344376</td>\n",
       "      <td>1</td>\n",
       "    </tr>\n",
       "  </tbody>\n",
       "</table>\n",
       "</div>"
      ],
      "text/plain": [
       "       exam1      exam2  accepted\n",
       "0  34.623660  78.024693         0\n",
       "1  30.286711  43.894998         0\n",
       "2  35.847409  72.902198         0\n",
       "3  60.182599  86.308552         1\n",
       "4  79.032736  75.344376         1"
      ]
     },
     "execution_count": 118,
     "metadata": {},
     "output_type": "execute_result"
    }
   ],
   "source": [
    "import pandas as pd \n",
    "import numpy as np \n",
    "import matplotlib.pyplot as plt \n",
    "from scipy.optimize import fmin_bfgs, minimize\n",
    "import warnings\n",
    "warnings.simplefilter('ignore')\n",
    "\n",
    "df = pd.read_csv('ex2data1.txt', header=None)\n",
    "df.rename(columns={0: 'exam1', \n",
    "                   1: 'exam2',\n",
    "                   2: 'accepted'}, inplace=True)\n",
    "df.head()"
   ]
  },
  {
   "cell_type": "code",
   "execution_count": 2,
   "metadata": {},
   "outputs": [
    {
     "data": {
      "image/png": "[encoded data removed]",
      "text/plain": [
       "<Figure size 432x288 with 1 Axes>"
      ]
     },
     "metadata": {
      "needs_background": "light"
     },
     "output_type": "display_data"
    }
   ],
   "source": [
    "accepted_students = df[df.accepted==1]\n",
    "others = df[df.accepted==0]\n",
    "plt.plot(accepted_students.exam1, accepted_students.exam2, \n",
    "         marker='+', linestyle='None', label='admitted')\n",
    "plt.plot(others.exam1, others.exam2,\n",
    "        marker='o', linestyle='None', label='not admitted')\n",
    "plt.xlabel('exam 1 score')\n",
    "plt.ylabel('exam 2 score')\n",
    "plt.legend(loc='upper right')\n",
    "plt.grid()\n",
    "plt.show()"
   ]
  },
  {
   "cell_type": "markdown",
   "metadata": {},
   "source": [
    "### 1.2  Implementation"
   ]
  },
  {
   "cell_type": "code",
   "execution_count": 76,
   "metadata": {},
   "outputs": [],
   "source": [
    "def normalize(x):\n",
    "    mu = np.mean(x,axis=0)\n",
    "    sigma = np.std(x,axis=0)\n",
    "    x = (x-mu)/sigma\n",
    "    return mu, sigma, x\n",
    "\n",
    "def sigmoid(z):\n",
    "    return 1/(1 + np.exp(-1 * z))\n",
    "\n",
    "def costFunc(theta, X, y):\n",
    "    m = len(y)\n",
    "    p_y = X @ theta.reshape(-1,1)\n",
    "    J = np.mean((-y * np.log(sigmoid(p_y))) - ((1-y) * np.log(1-sigmoid(p_y))))\n",
    "    return J\n",
    "\n",
    "def gradient(theta, X, y):\n",
    "    m = len(y)    \n",
    "    theta = theta.reshape(-1,1)\n",
    "    p_y = X @ theta\n",
    "    grad = 1/m * X.T @ (sigmoid(p_y) - y)\n",
    "    return grad.flatten()"
   ]
  },
  {
   "cell_type": "code",
   "execution_count": 81,
   "metadata": {},
   "outputs": [],
   "source": [
    "X = df[['exam1', 'exam2']].values\n",
    "mu, sigma, X_norm = normalize(X)\n",
    "X_bias = np.concatenate((np.ones(shape=(len(df),1)), X), axis=1)\n",
    "X_norm_bias = np.concatenate((np.ones(shape=(len(df),1)), X_norm), axis=1)\n",
    "y = df.accepted.values.reshape(-1,1)"
   ]
  },
  {
   "cell_type": "code",
   "execution_count": 84,
   "metadata": {},
   "outputs": [],
   "source": [
    "n, m = X.shape\n",
    "initial_theta = np.zeros(m+1)\n",
    "cost = costFunc(initial_theta, X_bias, y)\n",
    "grad = gradient(initial_theta, X_bias, y)"
   ]
  },
  {
   "cell_type": "code",
   "execution_count": 85,
   "metadata": {},
   "outputs": [
    {
     "name": "stdout",
     "output_type": "stream",
     "text": [
      "Cost at initial theta (zeros) is 0.6931471805599453\n",
      "Expected cost (approx): 0.693\n",
      "\n",
      "Gradient at initial theta (zeros) is \n",
      "[ -0.1        -12.00921659 -11.26284221]\n",
      "Expected gradients (approx):\n",
      " -0.1000\n",
      " -12.0092\n",
      " -11.2628\n",
      "\n"
     ]
    }
   ],
   "source": [
    "print(f'Cost at initial theta (zeros) is {np.squeeze(cost)}')\n",
    "print(f'Expected cost (approx): 0.693\\n')\n",
    "       \n",
    "print(f'Gradient at initial theta (zeros) is \\n{grad}')\n",
    "print(f'Expected gradients (approx):\\n -0.1000\\n -12.0092\\n -11.2628\\n')\n"
   ]
  },
  {
   "cell_type": "code",
   "execution_count": 119,
   "metadata": {},
   "outputs": [
    {
     "data": {
      "image/png": "[encoded data removed]",
      "text/plain": [
       "<Figure size 432x288 with 1 Axes>"
      ]
     },
     "metadata": {
      "needs_background": "light"
     },
     "output_type": "display_data"
    }
   ],
   "source": [
    "# optimization with no normalization\n",
    "theta, theta_history = fmin_bfgs(costFunction,\n",
    "                               initial_theta,\n",
    "                               fprime = gradient,\n",
    "                               args=(X_bias,y),\n",
    "                               retall = 1, \n",
    "                               disp = 0)\n",
    "\n",
    "J = []\n",
    "for i, th in enumerate(theta_history):\n",
    "    J.append(costFunction(th, X_bias, y))  \n",
    "plt.plot(J)\n",
    "plt.xlabel('# of iteration')\n",
    "plt.ylabel('cost function value')\n",
    "plt.show()"
   ]
  },
  {
   "cell_type": "code",
   "execution_count": 121,
   "metadata": {},
   "outputs": [
    {
     "data": {
      "image/png": "[encoded data removed]",
      "text/plain": [
       "<Figure size 432x288 with 1 Axes>"
      ]
     },
     "metadata": {
      "needs_background": "light"
     },
     "output_type": "display_data"
    }
   ],
   "source": [
    "# optimization with normalization of data -> faster convergence\n",
    "theta, theta_history = fmin_bfgs(costFunction,\n",
    "                               initial_theta,\n",
    "                               fprime = gradient,\n",
    "                               args=(X_norm_bias,y),\n",
    "                               retall = 1, \n",
    "                               disp = 0)\n",
    "\n",
    "J = []\n",
    "for i, th in enumerate(theta_history):\n",
    "    J.append(costFunction(th, X_norm_bias, y))  \n",
    "plt.plot(J)\n",
    "plt.xlabel('# of iteration')\n",
    "plt.ylabel('cost function value')\n",
    "plt.show()"
   ]
  },
  {
   "cell_type": "code",
   "execution_count": null,
   "metadata": {},
   "outputs": [],
   "source": []
  }
 ],
 "metadata": {
  "kernelspec": {
   "display_name": "Python 3",
   "language": "python",
   "name": "python3"
  },
  "language_info": {
   "codemirror_mode": {
    "name": "ipython",
    "version": 3
   },
   "file_extension": ".py",
   "mimetype": "text/x-python",
   "name": "python",
   "nbconvert_exporter": "python",
   "pygments_lexer": "ipython3",
   "version": "3.7.3"
  }
 },
 "nbformat": 4,
 "nbformat_minor": 2
}
