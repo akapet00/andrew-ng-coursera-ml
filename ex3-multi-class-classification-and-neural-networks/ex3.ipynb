{
 "cells": [
  {
   "cell_type": "markdown",
   "metadata": {},
   "source": [
    "# Multi-class Classification and Neural Networks"
   ]
  },
  {
   "cell_type": "markdown",
   "metadata": {},
   "source": [
    "## 1 Multi-class classification\n",
    "\n",
    "For this excercise, you will use logistic regression to recognize handwritten digits (from 0 to 9). Multi-class classification is performed on [MNIST](http://yann.lecun.com/exdb/mnist/) dataset using one-vs-all classification."
   ]
  },
  {
   "cell_type": "markdown",
   "metadata": {},
   "source": [
    "### 1.1 Dataset\n",
    "\n",
    "There are 5000 training examples in *ex3data1.mat*, where each training example is a 20 pixel by 20 pixel grayscale image of the digit. Each pixel is represented by a floating point number indicating the grayscale intensity at that location. The 20 by 20 grid of pixels is “unrolled” into a 400-dimensional vector. Each of these training examples becomes a single row in our data matrix X. This results in a 5000 by 400 matrix **X** where every row is a training\n",
    "example for a handwritten digit image."
   ]
  },
  {
   "cell_type": "code",
   "execution_count": 1,
   "metadata": {},
   "outputs": [],
   "source": [
    "# imports \n",
    "import scipy.io as sio\n",
    "import matplotlib.pyplot as plt\n",
    "%matplotlib inline\n",
    "import numpy as np\n",
    "from scipy.optimize import minimize, fmin_cg\n",
    "import warnings\n",
    "warnings.filterwarnings(\"ignore\")"
   ]
  },
  {
   "cell_type": "code",
   "execution_count": 2,
   "metadata": {},
   "outputs": [
    {
     "data": {
      "text/plain": [
       "{'__header__': b'MATLAB 5.0 MAT-file, Platform: GLNXA64, Created on: Sun Oct 16 13:09:09 2011',\n",
       " '__version__': '1.0',\n",
       " '__globals__': [],\n",
       " 'X': array([[0., 0., 0., ..., 0., 0., 0.],\n",
       "        [0., 0., 0., ..., 0., 0., 0.],\n",
       "        [0., 0., 0., ..., 0., 0., 0.],\n",
       "        ...,\n",
       "        [0., 0., 0., ..., 0., 0., 0.],\n",
       "        [0., 0., 0., ..., 0., 0., 0.],\n",
       "        [0., 0., 0., ..., 0., 0., 0.]]),\n",
       " 'y': array([[10],\n",
       "        [10],\n",
       "        [10],\n",
       "        ...,\n",
       "        [ 9],\n",
       "        [ 9],\n",
       "        [ 9]], dtype=uint8)}"
      ]
     },
     "execution_count": 2,
     "metadata": {},
     "output_type": "execute_result"
    }
   ],
   "source": [
    "# loading the dataset from ex3data1.mat file\n",
    "dataset = sio.loadmat('ex3data1.mat')\n",
    "dataset"
   ]
  },
  {
   "cell_type": "code",
   "execution_count": 3,
   "metadata": {},
   "outputs": [
    {
     "name": "stdout",
     "output_type": "stream",
     "text": [
      "Training data X shape: (5000, 400)\n",
      "Labels y shape: (5000, 1)\n"
     ]
    }
   ],
   "source": [
    "X = dataset['X']\n",
    "y = dataset['y']\n",
    "print(f'Training data X shape: {X.shape}')\n",
    "print(f'Labels y shape: {y.shape}')"
   ]
  },
  {
   "cell_type": "code",
   "execution_count": 4,
   "metadata": {},
   "outputs": [],
   "source": [
    "# instead of labeling 0s with 10s (because this tutorial is initially created for Matlab\n",
    "# which uses 1-labeling of everything which is annoying as fuck)\n",
    "# this will enable simpler looping later\n",
    "y[:500,:] = 0 "
   ]
  },
  {
   "cell_type": "markdown",
   "metadata": {},
   "source": [
    "### 1.2 Visualizing the data"
   ]
  },
  {
   "cell_type": "code",
   "execution_count": 5,
   "metadata": {},
   "outputs": [
    {
     "data": {
      "image/png": "[encoded data removed]",
      "text/plain": [
       "<Figure size 504x504 with 4 Axes>"
      ]
     },
     "metadata": {
      "needs_background": "light"
     },
     "output_type": "display_data"
    }
   ],
   "source": [
    "rand_indices = np.random.randint(low=0, high=X.shape[0], size=4)\n",
    "plt.figure(figsize=(7,7))\n",
    "for i, rand_index in enumerate(rand_indices):\n",
    "    plt.subplot(2,2,i+1)\n",
    "    plt.title(f'label y = {y[rand_index]}')\n",
    "    plt.gray()\n",
    "    plt.imshow(X[rand_index].reshape(20,20).T)"
   ]
  },
  {
   "cell_type": "markdown",
   "metadata": {},
   "source": [
    "### 1.3 Vectorized (regularized) logististic regression\n",
    "\n",
    "It is much easier to write code (not to say, much more computationally efficient) in vectorized form rather using loops. \n",
    "\n",
    "Logistic regression hypothesis is defined as:\n",
    "$$ h_{\\theta}(x) = g(\\theta^T x)$$\n",
    "\n",
    "where function $g$ is the sigmoid function defined as:\n",
    "$$ g(z) = \\frac{1}{1+e^{-z}} $$\n",
    "\n",
    "Cost function in logistic regression is (no regularization parameter):\n",
    "$$ J(\\theta) = \\frac{1}{m}\\sum_{i=1}^{m}[-y^{(i)}\\log(h_{\\theta}(x^{i})) - (1-y^{(i)})\\log(1-h_{\\theta}(x^{i}))] $$\n",
    "\n",
    "and the gradient of regularizationthe cost is a vector of the same length as $ \\theta $ where the $ j^{th} $ element (for $ j $ = 0, 1, ..., n) is defined as follows:\n",
    "$$ \\frac{\\partial J(\\theta)}{\\partial \\theta_{j}} = \\frac{1}{m}\\sum_{i=1}^{m}(h_{\\theta}(x^{(i)}) - y^{(i)})x_{j}^{(i)} $$\n",
    "\n",
    "Regularized cost function in logistic regression is:\n",
    "\n",
    "$$ J(\\theta) = \\frac{1}{m}\\sum_{i=1}^{m}[-y^{(i)}\\log(h_{\\theta}(x^{i})) - (1-y^{(i)})\\log(1-h_{\\theta}(x^{i}))] + \\frac{\\lambda}{2m}\\sum_{j=1}^{n}\\theta_{j}^{2}$$\n",
    "\n",
    "where hypothesis is the same sigmoid activation function as in non-regularized logistic regression. \n",
    "The only new parameter is the regularized parameter $\\lambda$.\n",
    "\n",
    "Gradient of the cost is a vector of the same length as $ \\theta $ where the $ j^{th} $ element (for $ j $ = 0, 1, ..., n) is defined as follows:\n",
    "$$ \\frac{\\partial J(\\theta)}{\\partial \\theta_{j}} = \\frac{1}{m}\\sum_{i=1}^{m}(h_{\\theta}(x^{(i)}) - y^{(i)})x_{j}^{(i)};  j=0$$\n",
    "and\n",
    "$$ \\frac{\\partial J(\\theta)}{\\partial \\theta_{j}} = \\frac{1}{m}\\sum_{i=1}^{m}(h_{\\theta}(x^{(i)}) - y^{(i)})x_{j}^{(i)} + \\frac{\\lambda}{m}\\theta_{j};  j\\geq0$$\n",
    "\n",
    "Hint:\n",
    "\n",
    "Vectorized form of regularized gradient descent for logistic regression can be written as:\n",
    "$$ \\begin{bmatrix}\n",
    "    \\frac{\\partial J}{\\partial \\theta_{0}}\\\\\n",
    "    \\frac{\\partial J}{\\partial \\theta_{1}}\\\\\n",
    "    \\frac{\\partial J}{\\partial \\theta_{2}}\\\\\n",
    "    ...\\\\\n",
    "    \\frac{\\partial J}{\\partial \\theta_{n}}\n",
    "    \\end{bmatrix} = \\frac{1}{m}X^T(h_{\\theta}(x) - y) + \\frac{\\lambda}{m} \\theta\n",
    "$$"
   ]
  },
  {
   "cell_type": "code",
   "execution_count": 6,
   "metadata": {},
   "outputs": [],
   "source": [
    "def sigmoid(z):\n",
    "    return 1.0 / (1.0 + np.exp(-1 * z))\n",
    "\n",
    "def regCostFunction(theta, X, y, _lambda):\n",
    "    m = len(y)\n",
    "    theta = theta.reshape(-1,1)\n",
    "    \n",
    "    pred = sigmoid(X @ theta)\n",
    "    J = np.mean((-y * np.log(pred)) - ((1-y) * np.log(1-pred)))\n",
    "    J_reg = J + (_lambda/(2*m) * np.sum(np.square(theta[1:])))\n",
    "    return J_reg\n",
    "\n",
    "def regGrad(theta, X, y, _lambda):\n",
    "    m = len(y)\n",
    "    theta = theta.reshape(-1,1)\n",
    "        \n",
    "    pred = sigmoid(X @ theta)\n",
    "    grad = 1/m * X.T @ (pred - y)\n",
    "    grad[1:] = grad[1:] + (_lambda * theta[1:,] / m)\n",
    "    return grad.flatten()"
   ]
  },
  {
   "cell_type": "code",
   "execution_count": 7,
   "metadata": {},
   "outputs": [
    {
     "name": "stdout",
     "output_type": "stream",
     "text": [
      "Cost function: 2.534819396109744\n",
      "Expected cost: 2.534819\n",
      "Gradients: [ 0.14656137 -0.54855841  0.72472227  1.39800296]\n",
      "Expected gradients: [0.146561 -0.548558 0.724722 1.398003]\n"
     ]
    }
   ],
   "source": [
    "# testing cost function and gradient\n",
    "theta_t = np.array([-2, -1, 1, 2]).reshape(-1,1)\n",
    "X_t = np.concatenate((np.ones((5,1)), \n",
    "                      (np.arange(1,16)/10).reshape(3,5).T), axis=1)\n",
    "y_t = np.array([1, 0, 1, 0, 1]).reshape(-1,1)\n",
    "_lambda_t = 3\n",
    "J = regCostFunction(theta_t, X_t, y_t, _lambda_t)\n",
    "print(f'Cost function: {J}')\n",
    "print(f'Expected cost: 2.534819')\n",
    "      \n",
    "grad = regGrad(theta_t, X_t, y_t, _lambda_t)     \n",
    "print(f'Gradients: {np.squeeze(grad)}')\n",
    "print('Expected gradients: [0.146561 -0.548558 0.724722 1.398003]')"
   ]
  },
  {
   "cell_type": "markdown",
   "metadata": {},
   "source": [
    "### 1.4 One-vs-all classification\n",
    "\n",
    "One-vs-all classifier is defined as multiple regularized logistic regression classifiers, one for each of the *K* classes in the label portion of the dataset. \n",
    "For the observed dataset, $ K = 10 $. \n",
    "\n",
    "Training is done using BFGS optimizer method, just like in binary logistic regression classifier."
   ]
  },
  {
   "cell_type": "code",
   "execution_count": 8,
   "metadata": {},
   "outputs": [],
   "source": [
    "def optimizeTheta(initial_theta, X, y, _lambda):\n",
    "    # optimization performed using fmin_cg function as a match to a Matlab's fmincg function (c) Carl Edward Rasmussen\n",
    "    # fmin = fmin_cg(f=regCostFunction, \n",
    "    #                fprime=regGrad,\n",
    "    #                x0=initial_theta, \n",
    "    #                args=(X, y, _lambda), \n",
    "    #                maxiter=50,\n",
    "    #                disp=True,\n",
    "    #                full_output=False)\n",
    "    fmin = minimize(regCostFunction, initial_theta, args=(X, y, _lambda), jac=regGrad, method='TNC') # pretty slow :/\n",
    "    fmin = fmin.x\n",
    "    return fmin\n",
    "\n",
    "def oneVsAllClassifier(X, y, num_labels, _lambda):\n",
    "    m, n = X.shape \n",
    "    X = np.concatenate((np.ones((m,1)), X), axis=1)\n",
    "    theta = np.zeros(shape=(num_labels, n+1))\n",
    "    initial_theta = np.zeros(shape=(n+1,1)).reshape(-1)\n",
    "    \n",
    "    for i in range(num_labels):\n",
    "        y_i = np.array([1 if _y_i == i else 0 for _y_i in y]).reshape(-1,1) # ¯\\_(ツ)_/¯\n",
    "        theta[i,:] = optimizeTheta(initial_theta, X, y_i, _lambda)\n",
    "    return theta\n",
    "    \n",
    "def predict(theta, X):\n",
    "    m = X.shape[0]\n",
    "    num_labels = theta.shape[0] \n",
    "    X = np.concatenate((np.ones((m,1)), X), axis=1)\n",
    "    \n",
    "    y_predict_raw = np.zeros((m, num_labels))\n",
    "    y_predict_raw = sigmoid(X @ theta.T) # (5000,10) = (5000,401) x (401, 10)\n",
    "    \n",
    "    # there is probably a better way for finding column index of max element of each row, but fuck it, it works\n",
    "    return np.where(y_predict_raw == np.max(y_predict_raw, axis=1).reshape(-1,1))[1].reshape(-1,1)\n",
    "\n",
    "def accuracy(pred, y):\n",
    "    return np.mean(pred==y)*100"
   ]
  },
  {
   "cell_type": "code",
   "execution_count": 9,
   "metadata": {},
   "outputs": [
    {
     "data": {
      "text/plain": [
       "(10, 401)"
      ]
     },
     "execution_count": 9,
     "metadata": {},
     "output_type": "execute_result"
    }
   ],
   "source": [
    "# training\n",
    "_lambda = 0.1 # regularization param\n",
    "input_layer_size = 400 # 20*20 pixel images\n",
    "num_labels = 10 # number of labels\n",
    "\n",
    "theta = oneVsAllClassifier(X, y, num_labels, _lambda)\n",
    "theta.shape"
   ]
  },
  {
   "cell_type": "code",
   "execution_count": 10,
   "metadata": {},
   "outputs": [
    {
     "name": "stdout",
     "output_type": "stream",
     "text": [
      "accuracy score: 96.46%\n"
     ]
    }
   ],
   "source": [
    "# evaluating\n",
    "pred = predict(theta, X) \n",
    "acc = accuracy(pred, y)\n",
    "print(f'accuracy score: {round(acc,2)}%')"
   ]
  },
  {
   "cell_type": "markdown",
   "metadata": {},
   "source": [
    "## 2 Neural Networks"
   ]
  },
  {
   "cell_type": "markdown",
   "metadata": {},
   "source": [
    "A neural network is able to reognize handwritten digits from MNIST just like the multi-class logistic regression, but with higher accuracy due to its architecture which enables to form complex and non-linear hypotheses."
   ]
  },
  {
   "cell_type": "markdown",
   "metadata": {},
   "source": [
    "## 2.1 Model representation"
   ]
  },
  {
   "cell_type": "code",
   "execution_count": 11,
   "metadata": {},
   "outputs": [],
   "source": [
    "# data \n",
    "dataset = sio.loadmat('ex3data1.mat')\n",
    "X = dataset['X']\n",
    "y = dataset['y']\n",
    "y[:500,:] = 0 # a single line of data engineering :)"
   ]
  },
  {
   "cell_type": "code",
   "execution_count": 12,
   "metadata": {},
   "outputs": [
    {
     "name": "stdout",
     "output_type": "stream",
     "text": [
      "mat file type: <class 'dict'>\n",
      "dict keys:dict_keys(['__header__', '__version__', '__globals__', 'Theta1', 'Theta2'])\n",
      "size of theta1: (25, 401)\n",
      "size of theta2: (10, 26)\n"
     ]
    }
   ],
   "source": [
    "# parameters\n",
    "thetas = sio.loadmat('ex3weights.mat')\n",
    "print(f'mat file type: {type(thetas)}')\n",
    "print(f'dict keys:{thetas.keys()}')\n",
    "\n",
    "theta1 = thetas['Theta1']\n",
    "theta2 = thetas['Theta2']\n",
    "print(f'size of theta1: {theta1.shape}')\n",
    "print(f'size of theta2: {theta2.shape}')"
   ]
  },
  {
   "cell_type": "markdown",
   "metadata": {},
   "source": [
    "This neural network has 3 layers - an input layer, a single hidden layer and an output layer. \n",
    "![nn](nn.png)\n",
    "\n",
    "Since the images are of size 20x20, which gives 400 input layer units (+ the additional bias unit - always outpus +1). \n",
    "The parameters have dimensions that are sized for a neural network with 25 units in the second layer and 10 output units (corresponding to the 10 digit classes)."
   ]
  },
  {
   "cell_type": "markdown",
   "metadata": {},
   "source": [
    "## 2.2 Feedforward propagation and prediction\n",
    "\n",
    "The implementation of the feedforward algorithm works as follows:\n",
    "$$\n",
    "a_{1}^{2} = g(\\theta_{10}^{1} x_{0} + \\theta_{11}^{1} x_{1} + \\theta_{12}^{1} x_{2} + \\theta_{13}^{1} x_{3}) = g(z_{1}^{2})\n",
    "$$\n",
    "\n",
    "$$\n",
    "a_{2}^{2} = g(\\theta_{20}^{1} x_{0} + \\theta_{21}^{1} x_{1} + \\theta_{22}^{1} x_{2} + \\theta_{23}^{1} x_{3}) = g(z_{2}^{2})\n",
    "$$\n",
    "\n",
    "$$\n",
    "a_{3}^{2} = g(\\theta_{30}^{1} x_{0} + \\theta_{31}^{1} x_{1} + \\theta_{32}^{1} x_{2} + \\theta_{33}^{1} x_{3}) = g(z_{3}^{2})\n",
    "$$\n",
    "\n",
    "$$\n",
    "h_{\\theta}(x) = g(\\theta_{10}^{2} a_{0}^{2} + \\theta_{11}^{2} a_{1}^{2} + \\theta_{12}^{2} a_{2}^{2} + \\theta_{13}^{2} a_{3}^{2})\n",
    "$$\n",
    "\n",
    "where $ g $ is sigmoid function defined as:\n",
    "\n",
    "$$ \n",
    "g(z) = \\frac{1}{1 + e^{-z}}\n",
    "$$\n",
    "\n",
    "In vectorized form where\n",
    "$ x = \\begin{bmatrix}\n",
    "        x_{0}\\\\\n",
    "        x_{1}\\\\\n",
    "        x_{2}\\\\\n",
    "        x_{3}\n",
    "        \\end{bmatrix}\n",
    "$\n",
    "and \n",
    "$ \n",
    "z^{(2)} = \\begin{bmatrix}\n",
    "        z_{1}\\\\\n",
    "        z_{2}\\\\\n",
    "        z_{3}\n",
    "        \\end{bmatrix}\n",
    "$\n",
    "\n",
    "feedforward propagation algorithm is defined as follows:\n",
    "$$\n",
    "z^{(2)} = \\theta^{(1)} x\n",
    "$$\n",
    "\n",
    "where $x$ can be written as $x=a^{(1)}$,\n",
    "$$\n",
    "a^{(2)} = g(z^{(2)}) \n",
    "$$\n",
    "\n",
    "which also represents 3 by 1 vector\n",
    "$\n",
    "a^{(2)} = \\begin{bmatrix}\n",
    "        a_{1}\\\\\n",
    "        a_{2}\\\\\n",
    "        a_{3}\n",
    "        \\end{bmatrix}\n",
    "$,\n",
    "after that the bias is added on the second layer just like on the first:\n",
    "$$\n",
    "a_{0}^{2} = +1\n",
    "$$\n",
    "\n",
    "$$\n",
    "a^{(2)} = \\begin{bmatrix}\n",
    "        1\\\\\n",
    "        a_{1}\\\\\n",
    "        a_{2}\\\\\n",
    "        a_{3}\n",
    "        \\end{bmatrix}\n",
    "$$\n",
    "\n",
    "Finally, we have value for $z^{(3)}$:\n",
    "$$\n",
    "z^{(3)} = \\theta^{(2)} a^{(2)}\n",
    "$$\n",
    "\n",
    "Output is then defined as:\n",
    "$$\n",
    "h_{\\theta}(x) = a^{(3)} = g(z^{(3)})\n",
    "$$"
   ]
  },
  {
   "cell_type": "code",
   "execution_count": 13,
   "metadata": {},
   "outputs": [],
   "source": [
    "def predictNN(theta1, theta2, X):\n",
    "    X_bias = np.concatenate((np.ones(shape=(X.shape[0],1)), X), axis=1)\n",
    "    \n",
    "    z2 = theta1 @ X_bias.T             # (25, 5000) = (25, 401) x (401, 5000)\n",
    "    a2 = sigmoid(z2)                   # (25, 5000)\n",
    "    a2 = np.concatenate((np.ones(shape=(1, X.shape[0])), \n",
    "                        a2), axis=0)  # (26, 5000)\n",
    "    z3 = sigmoid(theta2 @ a2)         # (10, 5000) = (10, 26) x (26,5000)\n",
    "    return np.where(z3 == np.max(z3, axis=0))[0].reshape(-1,1)"
   ]
  },
  {
   "cell_type": "code",
   "execution_count": 14,
   "metadata": {},
   "outputs": [
    {
     "name": "stdout",
     "output_type": "stream",
     "text": [
      "training set accuracy: 99.24\n"
     ]
    }
   ],
   "source": [
    "pred = predictNN(theta1, theta2, X)\n",
    "acc = accuracy(pred, y)\n",
    "print(f'training set accuracy: {acc}')"
   ]
  },
  {
   "cell_type": "code",
   "execution_count": 15,
   "metadata": {},
   "outputs": [
    {
     "data": {
      "image/png": "[encoded data removed]",
      "text/plain": [
       "<Figure size 432x288 with 1 Axes>"
      ]
     },
     "metadata": {
      "needs_background": "light"
     },
     "output_type": "display_data"
    }
   ],
   "source": [
    "# observation of false classified images\n",
    "false_predictions = np.where(pred!=y)[0]\n",
    "\n",
    "false_prediction_random_choice = np.random.choice(false_predictions)\n",
    "\n",
    "plt.gray()\n",
    "plt.imshow(X[false_prediction_random_choice,].reshape(20,20).T)\n",
    "plt.title(f'predicted {pred[false_prediction_random_choice]}')\n",
    "plt.show()"
   ]
  },
  {
   "cell_type": "code",
   "execution_count": null,
   "metadata": {},
   "outputs": [],
   "source": []
  }
 ],
 "metadata": {
  "kernelspec": {
   "display_name": "Python 3",
   "language": "python",
   "name": "python3"
  },
  "language_info": {
   "codemirror_mode": {
    "name": "ipython",
    "version": 3
   },
   "file_extension": ".py",
   "mimetype": "text/x-python",
   "name": "python",
   "nbconvert_exporter": "python",
   "pygments_lexer": "ipython3",
   "version": "3.7.3"
  }
 },
 "nbformat": 4,
 "nbformat_minor": 2
}
