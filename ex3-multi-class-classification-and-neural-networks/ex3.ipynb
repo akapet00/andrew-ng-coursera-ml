{
 "cells": [
  {
   "cell_type": "markdown",
   "metadata": {},
   "source": [
    "# Multi-class Classification and Neural Networks"
   ]
  },
  {
   "cell_type": "markdown",
   "metadata": {},
   "source": [
    "## 1 Multi-class classification\n",
    "\n",
    "For this excercise, you will use logistic regression to recognize handwritten digits (from 0 to 9). Multi-class classification is performed on [MNIST](http://yann.lecun.com/exdb/mnist/) dataset using one-vs-all classification."
   ]
  },
  {
   "cell_type": "markdown",
   "metadata": {},
   "source": [
    "### 1.1 Dataset\n",
    "\n",
    "There are 5000 training examples in *ex3data1.mat*, where each training example is a 20 pixel by 20 pixel grayscale image of the digit. Each pixel is represented by a floating point number indicating the grayscale intensity at that location. The 20 by 20 grid of pixels is “unrolled” into a 400-dimensional vector. Each of these training examples becomes a single row in our data matrix X. This results in a 5000 by 400 matrix **X** where every row is a training\n",
    "example for a handwritten digit image."
   ]
  },
  {
   "cell_type": "code",
   "execution_count": 1,
   "metadata": {},
   "outputs": [],
   "source": [
    "# imports \n",
    "import scipy.io as sio\n",
    "import matplotlib.pyplot as plt\n",
    "import numpy as np"
   ]
  },
  {
   "cell_type": "code",
   "execution_count": 10,
   "metadata": {},
   "outputs": [
    {
     "data": {
      "text/plain": [
       "{'__header__': b'MATLAB 5.0 MAT-file, Platform: GLNXA64, Created on: Sun Oct 16 13:09:09 2011',\n",
       " '__version__': '1.0',\n",
       " '__globals__': [],\n",
       " 'X': array([[0., 0., 0., ..., 0., 0., 0.],\n",
       "        [0., 0., 0., ..., 0., 0., 0.],\n",
       "        [0., 0., 0., ..., 0., 0., 0.],\n",
       "        ...,\n",
       "        [0., 0., 0., ..., 0., 0., 0.],\n",
       "        [0., 0., 0., ..., 0., 0., 0.],\n",
       "        [0., 0., 0., ..., 0., 0., 0.]]),\n",
       " 'y': array([[10],\n",
       "        [10],\n",
       "        [10],\n",
       "        ...,\n",
       "        [ 9],\n",
       "        [ 9],\n",
       "        [ 9]], dtype=uint8)}"
      ]
     },
     "execution_count": 10,
     "metadata": {},
     "output_type": "execute_result"
    }
   ],
   "source": [
    "# loading the dataset from ex3data1.mat file\n",
    "dataset = sio.loadmat('ex3data1.mat')\n",
    "dataset"
   ]
  },
  {
   "cell_type": "code",
   "execution_count": 14,
   "metadata": {},
   "outputs": [
    {
     "name": "stdout",
     "output_type": "stream",
     "text": [
      "Training data X shape: (5000, 400)\n",
      "Labels y shape: (5000, 1)\n"
     ]
    }
   ],
   "source": [
    "X = dataset['X']\n",
    "y = dataset['y']\n",
    "print(f'Training data X shape: {X.shape}')\n",
    "print(f'Labels y shape: {y.shape}')"
   ]
  },
  {
   "cell_type": "markdown",
   "metadata": {},
   "source": [
    "### 1.2 Visualizing the data"
   ]
  },
  {
   "cell_type": "code",
   "execution_count": 49,
   "metadata": {},
   "outputs": [
    {
     "data": {
      "image/png": "[encoded data removed]",
      "text/plain": [
       "<Figure size 504x504 with 4 Axes>"
      ]
     },
     "metadata": {
      "needs_background": "light"
     },
     "output_type": "display_data"
    }
   ],
   "source": [
    "rand_indices = np.random.randint(low=0, high=X.shape[0], size=4)\n",
    "plt.figure(figsize=(7,7))\n",
    "for i, rand_index in enumerate(rand_indices):\n",
    "    plt.subplot(2,2,i+1)\n",
    "    plt.title(f'label y = {y[rand_index]}')\n",
    "    plt.gray()\n",
    "    plt.imshow(X[rand_index].reshape(20,20).T)"
   ]
  },
  {
   "cell_type": "markdown",
   "metadata": {},
   "source": [
    "### 1.3 Vectorized (regularized) logististic regression\n",
    "\n",
    "It is much easier to write code (not to say, much more computationally efficient) in vectorized form rather using loops. \n",
    "\n",
    "Logistic regression hypothesis is defined as:\n",
    "$$ h_{\\theta}(x) = g(\\theta^T x)$$\n",
    "\n",
    "where function $g$ is the sigmoid function defined as:\n",
    "$$ g(z) = \\frac{1}{1+e^{-z}} $$\n",
    "\n",
    "Cost function in logistic regression is (no regularization parameter):\n",
    "$$ J(\\theta) = \\frac{1}{m}\\sum_{i=1}^{m}[-y^{(i)}\\log(h_{\\theta}(x^{i})) - (1-y^{(i)})\\log(1-h_{\\theta}(x^{i}))] $$\n",
    "\n",
    "and the gradient of regularizationthe cost is a vector of the same length as $ \\theta $ where the $ j^{th} $ element (for $ j $ = 0, 1, ..., n) is defined as follows:\n",
    "$$ \\frac{\\partial J(\\theta)}{\\partial \\theta_{j}} = \\frac{1}{m}\\sum_{i=1}^{m}(h_{\\theta}(x^{(i)}) - y^{(i)})x_{j}^{(i)} $$\n",
    "\n",
    "Regularized cost function in logistic regression is:\n",
    "\n",
    "$$ J(\\theta) = \\frac{1}{m}\\sum_{i=1}^{m}[-y^{(i)}\\log(h_{\\theta}(x^{i})) - (1-y^{(i)})\\log(1-h_{\\theta}(x^{i}))] + \\frac{\\lambda}{2m}\\sum_{j=1}^{n}\\theta_{j}^{2}$$\n",
    "\n",
    "where hypothesis is the same sigmoid activation function as in non-regularized logistic regression. \n",
    "The only new parameter is the regularized parameter $\\lambda$.\n",
    "\n",
    "Gradient of the cost is a vector of the same length as $ \\theta $ where the $ j^{th} $ element (for $ j $ = 0, 1, ..., n) is defined as follows:\n",
    "$$ \\frac{\\partial J(\\theta)}{\\partial \\theta_{j}} = \\frac{1}{m}\\sum_{i=1}^{m}(h_{\\theta}(x^{(i)}) - y^{(i)})x_{j}^{(i)};  j=0$$\n",
    "and\n",
    "$$ \\frac{\\partial J(\\theta)}{\\partial \\theta_{j}} = \\frac{1}{m}\\sum_{i=1}^{m}(h_{\\theta}(x^{(i)}) - y^{(i)})x_{j}^{(i)} + \\frac{\\lambda}{m}\\theta_{j};  j\\geq0$$\n",
    "\n",
    "Hint:\n",
    "\n",
    "Vectorized form of regularized gradient descent for logistic regression can be written as:\n",
    "$$ \\begin{bmatrix}\n",
    "    \\frac{\\partial J}{\\partial \\theta_{0}}\\\\\n",
    "    \\frac{\\partial J}{\\partial \\theta_{1}}\\\\\n",
    "    \\frac{\\partial J}{\\partial \\theta_{2}}\\\\\n",
    "    ...\\\\\n",
    "    \\frac{\\partial J}{\\partial \\theta_{n}}\n",
    "    \\end{bmatrix} = \\frac{1}{m}X^T(h_{\\theta}(x) - y) + \\frac{\\lambda}{m} \\theta\n",
    "$$"
   ]
  },
  {
   "cell_type": "code",
   "execution_count": null,
   "metadata": {},
   "outputs": [],
   "source": []
  }
 ],
 "metadata": {
  "kernelspec": {
   "display_name": "Python 3",
   "language": "python",
   "name": "python3"
  },
  "language_info": {
   "codemirror_mode": {
    "name": "ipython",
    "version": 3
   },
   "file_extension": ".py",
   "mimetype": "text/x-python",
   "name": "python",
   "nbconvert_exporter": "python",
   "pygments_lexer": "ipython3",
   "version": "3.7.3"
  }
 },
 "nbformat": 4,
 "nbformat_minor": 2
}
