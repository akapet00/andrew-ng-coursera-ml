{
 "cells": [
  {
   "cell_type": "markdown",
   "metadata": {},
   "source": [
    "# Multi-class Classification and Neural Networks"
   ]
  },
  {
   "cell_type": "markdown",
   "metadata": {},
   "source": [
    "## 1 Multi-class classification\n",
    "\n",
    "For this excercise, you will use logistic regression to recognize handwritten digits (from 0 to 9). Multi-class classification is performed on [MNIST](http://yann.lecun.com/exdb/mnist/) dataset using one-vs-all classification."
   ]
  },
  {
   "cell_type": "markdown",
   "metadata": {},
   "source": [
    "### 1.1 Dataset\n",
    "\n",
    "There are 5000 training examples in *ex3data1.mat*, where each training example is a 20 pixel by 20 pixel grayscale image of the digit. Each pixel is represented by a floating point number indicating the grayscale intensity at that location. The 20 by 20 grid of pixels is “unrolled” into a 400-dimensional vector. Each of these training examples becomes a single row in our data matrix X. This results in a 5000 by 400 matrix **X** where every row is a training\n",
    "example for a handwritten digit image."
   ]
  },
  {
   "cell_type": "code",
   "execution_count": 1,
   "metadata": {},
   "outputs": [],
   "source": [
    "# imports \n",
    "import scipy.io as sio\n",
    "import matplotlib.pyplot as plt\n",
    "%matplotlib inline\n",
    "import numpy as np\n",
    "from scipy.optimize import minimize, fmin_cg\n",
    "import warnings\n",
    "warnings.filterwarnings(\"ignore\")"
   ]
  },
  {
   "cell_type": "code",
   "execution_count": 2,
   "metadata": {},
   "outputs": [
    {
     "data": {
      "text/plain": [
       "{'__header__': b'MATLAB 5.0 MAT-file, Platform: GLNXA64, Created on: Sun Oct 16 13:09:09 2011',\n",
       " '__version__': '1.0',\n",
       " '__globals__': [],\n",
       " 'X': array([[0., 0., 0., ..., 0., 0., 0.],\n",
       "        [0., 0., 0., ..., 0., 0., 0.],\n",
       "        [0., 0., 0., ..., 0., 0., 0.],\n",
       "        ...,\n",
       "        [0., 0., 0., ..., 0., 0., 0.],\n",
       "        [0., 0., 0., ..., 0., 0., 0.],\n",
       "        [0., 0., 0., ..., 0., 0., 0.]]),\n",
       " 'y': array([[10],\n",
       "        [10],\n",
       "        [10],\n",
       "        ...,\n",
       "        [ 9],\n",
       "        [ 9],\n",
       "        [ 9]], dtype=uint8)}"
      ]
     },
     "execution_count": 2,
     "metadata": {},
     "output_type": "execute_result"
    }
   ],
   "source": [
    "# loading the dataset from ex3data1.mat file\n",
    "dataset = sio.loadmat('ex3data1.mat')\n",
    "dataset"
   ]
  },
  {
   "cell_type": "code",
   "execution_count": 3,
   "metadata": {},
   "outputs": [
    {
     "name": "stdout",
     "output_type": "stream",
     "text": [
      "Training data X shape: (5000, 400)\n",
      "Labels y shape: (5000, 1)\n"
     ]
    }
   ],
   "source": [
    "X = dataset['X']\n",
    "y = dataset['y']\n",
    "print(f'Training data X shape: {X.shape}')\n",
    "print(f'Labels y shape: {y.shape}')"
   ]
  },
  {
   "cell_type": "code",
   "execution_count": 4,
   "metadata": {},
   "outputs": [],
   "source": [
    "# instead of labeling 0s with 10s (because this tutorial is initially created for Matlab\n",
    "# which uses 1-labeling of everything which is annoying as fuck)\n",
    "# this will enable simpler looping later\n",
    "y[:500,:] = 0 "
   ]
  },
  {
   "cell_type": "markdown",
   "metadata": {},
   "source": [
    "### 1.2 Visualizing the data"
   ]
  },
  {
   "cell_type": "code",
   "execution_count": 5,
   "metadata": {},
   "outputs": [
    {
     "data": {
      "image/png": "[encoded data removed]",
      "text/plain": [
       "<Figure size 504x504 with 4 Axes>"
      ]
     },
     "metadata": {
      "needs_background": "light"
     },
     "output_type": "display_data"
    }
   ],
   "source": [
    "rand_indices = np.random.randint(low=0, high=X.shape[0], size=4)\n",
    "plt.figure(figsize=(7,7))\n",
    "for i, rand_index in enumerate(rand_indices):\n",
    "    plt.subplot(2,2,i+1)\n",
    "    plt.title(f'label y = {y[rand_index]}')\n",
    "    plt.gray()\n",
    "    plt.imshow(X[rand_index].reshape(20,20).T)"
   ]
  },
  {
   "cell_type": "markdown",
   "metadata": {},
   "source": [
    "### 1.3 Vectorized (regularized) logististic regression\n",
    "\n",
    "It is much easier to write code (not to say, much more computationally efficient) in vectorized form rather using loops. \n",
    "\n",
    "Logistic regression hypothesis is defined as:\n",
    "$$ h_{\\theta}(x) = g(\\theta^T x)$$\n",
    "\n",
    "where function $g$ is the sigmoid function defined as:\n",
    "$$ g(z) = \\frac{1}{1+e^{-z}} $$\n",
    "\n",
    "Cost function in logistic regression is (no regularization parameter):\n",
    "$$ J(\\theta) = \\frac{1}{m}\\sum_{i=1}^{m}[-y^{(i)}\\log(h_{\\theta}(x^{i})) - (1-y^{(i)})\\log(1-h_{\\theta}(x^{i}))] $$\n",
    "\n",
    "and the gradient of regularizationthe cost is a vector of the same length as $ \\theta $ where the $ j^{th} $ element (for $ j $ = 0, 1, ..., n) is defined as follows:\n",
    "$$ \\frac{\\partial J(\\theta)}{\\partial \\theta_{j}} = \\frac{1}{m}\\sum_{i=1}^{m}(h_{\\theta}(x^{(i)}) - y^{(i)})x_{j}^{(i)} $$\n",
    "\n",
    "Regularized cost function in logistic regression is:\n",
    "\n",
    "$$ J(\\theta) = \\frac{1}{m}\\sum_{i=1}^{m}[-y^{(i)}\\log(h_{\\theta}(x^{i})) - (1-y^{(i)})\\log(1-h_{\\theta}(x^{i}))] + \\frac{\\lambda}{2m}\\sum_{j=1}^{n}\\theta_{j}^{2}$$\n",
    "\n",
    "where hypothesis is the same sigmoid activation function as in non-regularized logistic regression. \n",
    "The only new parameter is the regularized parameter $\\lambda$.\n",
    "\n",
    "Gradient of the cost is a vector of the same length as $ \\theta $ where the $ j^{th} $ element (for $ j $ = 0, 1, ..., n) is defined as follows:\n",
    "$$ \\frac{\\partial J(\\theta)}{\\partial \\theta_{j}} = \\frac{1}{m}\\sum_{i=1}^{m}(h_{\\theta}(x^{(i)}) - y^{(i)})x_{j}^{(i)};  j=0$$\n",
    "and\n",
    "$$ \\frac{\\partial J(\\theta)}{\\partial \\theta_{j}} = \\frac{1}{m}\\sum_{i=1}^{m}(h_{\\theta}(x^{(i)}) - y^{(i)})x_{j}^{(i)} + \\frac{\\lambda}{m}\\theta_{j};  j\\geq0$$\n",
    "\n",
    "Hint:\n",
    "\n",
    "Vectorized form of regularized gradient descent for logistic regression can be written as:\n",
    "$$ \\begin{bmatrix}\n",
    "    \\frac{\\partial J}{\\partial \\theta_{0}}\\\\\n",
    "    \\frac{\\partial J}{\\partial \\theta_{1}}\\\\\n",
    "    \\frac{\\partial J}{\\partial \\theta_{2}}\\\\\n",
    "    ...\\\\\n",
    "    \\frac{\\partial J}{\\partial \\theta_{n}}\n",
    "    \\end{bmatrix} = \\frac{1}{m}X^T(h_{\\theta}(x) - y) + \\frac{\\lambda}{m} \\theta\n",
    "$$"
   ]
  },
  {
   "cell_type": "code",
   "execution_count": 6,
   "metadata": {},
   "outputs": [],
   "source": [
    "def sigmoid(z):\n",
    "    return 1.0 / (1.0 + np.exp(-1 * z))\n",
    "\n",
    "def regCostFunction(theta, X, y, _lambda):\n",
    "    m = len(y)\n",
    "    theta = theta.reshape(-1,1)\n",
    "    \n",
    "    pred = sigmoid(X @ theta)\n",
    "    J = np.mean((-y * np.log(pred)) - ((1-y) * np.log(1-pred)))\n",
    "    J_reg = J + (_lambda/(2*m) * np.sum(np.square(theta[1:])))\n",
    "    return J_reg\n",
    "\n",
    "def regGrad(theta, X, y, _lambda):\n",
    "    m = len(y)\n",
    "    theta = theta.reshape(-1,1)\n",
    "        \n",
    "    pred = sigmoid(X @ theta)\n",
    "    grad = 1/m * X.T @ (pred - y)\n",
    "    grad[1:] = grad[1:] + (_lambda * theta[1:,] / m)\n",
    "    return grad.flatten()"
   ]
  },
  {
   "cell_type": "code",
   "execution_count": 7,
   "metadata": {},
   "outputs": [
    {
     "name": "stdout",
     "output_type": "stream",
     "text": [
      "Cost function: 2.534819396109744\n",
      "Expected cost: 2.534819\n",
      "Gradients: [ 0.14656137 -0.54855841  0.72472227  1.39800296]\n",
      "Expected gradients: [0.146561 -0.548558 0.724722 1.398003]\n"
     ]
    }
   ],
   "source": [
    "# testing cost function and gradient\n",
    "theta_t = np.array([-2, -1, 1, 2]).reshape(-1,1)\n",
    "X_t = np.concatenate((np.ones((5,1)), \n",
    "                      (np.arange(1,16)/10).reshape(3,5).T), axis=1)\n",
    "y_t = np.array([1, 0, 1, 0, 1]).reshape(-1,1)\n",
    "_lambda_t = 3\n",
    "J = regCostFunction(theta_t, X_t, y_t, _lambda_t)\n",
    "print(f'Cost function: {J}')\n",
    "print(f'Expected cost: 2.534819')\n",
    "      \n",
    "grad = regGrad(theta_t, X_t, y_t, _lambda_t)     \n",
    "print(f'Gradients: {np.squeeze(grad)}')\n",
    "print('Expected gradients: [0.146561 -0.548558 0.724722 1.398003]')"
   ]
  },
  {
   "cell_type": "markdown",
   "metadata": {},
   "source": [
    "### 1.4 One-vs-all classification\n",
    "\n",
    "One-vs-all classifier is defined as multiple regularized logistic regression classifiers, one for each of the *K* classes in the label portion of the dataset. \n",
    "For the observed dataset, $ K = 10 $. \n",
    "\n",
    "Training is done using BFGS optimizer method, just like in binary logistic regression classifier."
   ]
  },
  {
   "cell_type": "code",
   "execution_count": 8,
   "metadata": {},
   "outputs": [],
   "source": [
    "def optimizeTheta(initial_theta, X, y, _lambda):\n",
    "    # optimization performed using fmin_cg function as a match to a Matlab's fmincg function (c) Carl Edward Rasmussen\n",
    "    # fmin = fmin_cg(f=regCostFunction, \n",
    "    #                fprime=regGrad,\n",
    "    #                x0=initial_theta, \n",
    "    #                args=(X, y, _lambda), \n",
    "    #                maxiter=50,\n",
    "    #                disp=True,\n",
    "    #                full_output=False)\n",
    "    fmin = minimize(regCostFunction, initial_theta, args=(X, y, _lambda), jac=regGrad, method='TNC') # pretty slow :/\n",
    "    fmin = fmin.x\n",
    "    return fmin\n",
    "\n",
    "def oneVsAllClassifier(X, y, num_labels, _lambda):\n",
    "    m, n = X.shape \n",
    "    X = np.concatenate((np.ones((m,1)), X), axis=1)\n",
    "    theta = np.zeros(shape=(num_labels, n+1))\n",
    "    initial_theta = np.zeros(shape=(n+1,1)).reshape(-1)\n",
    "    \n",
    "    for i in range(num_labels):\n",
    "        y_i = np.array([1 if _y_i == i else 0 for _y_i in y]).reshape(-1,1) # ¯\\_(ツ)_/¯\n",
    "        theta[i,:] = optimizeTheta(initial_theta, X, y_i, _lambda)\n",
    "    return theta\n",
    "    \n",
    "def predict(theta, X):\n",
    "    m = X.shape[0]\n",
    "    num_labels = theta.shape[0] \n",
    "    X = np.concatenate((np.ones((m,1)), X), axis=1)\n",
    "    \n",
    "    y_predict_raw = np.zeros((m, num_labels))\n",
    "    y_predict_raw = sigmoid(X @ theta.T) # (5000,10) = (5000,401) x (401, 10)\n",
    "    \n",
    "    # there is probably a better way for finding column index of max element of each row, but fuck it, it works\n",
    "    return np.where(y_predict_raw == np.max(y_predict_raw, axis=1).reshape(-1,1))[1].reshape(-1,1)\n",
    "\n",
    "def accuracy(pred, y):\n",
    "    return np.mean(pred==y)*100"
   ]
  },
  {
   "cell_type": "code",
   "execution_count": 9,
   "metadata": {},
   "outputs": [
    {
     "data": {
      "text/plain": [
       "(10, 401)"
      ]
     },
     "execution_count": 9,
     "metadata": {},
     "output_type": "execute_result"
    }
   ],
   "source": [
    "# training\n",
    "_lambda = 0.1 # regularization param\n",
    "input_layer_size = 400 # 20*20 pixel images\n",
    "num_labels = 10 # number of labels\n",
    "\n",
    "theta = oneVsAllClassifier(X, y, num_labels, _lambda)\n",
    "theta.shape"
   ]
  },
  {
   "cell_type": "code",
   "execution_count": 10,
   "metadata": {},
   "outputs": [
    {
     "name": "stdout",
     "output_type": "stream",
     "text": [
      "accuracy score (out of 100%): 96.46%\n"
     ]
    }
   ],
   "source": [
    "# evaluating\n",
    "pred = predict(theta, X) \n",
    "acc = accuracy(pred, y)\n",
    "print(f'accuracy score (out of 100%): {round(acc,2)}%')"
   ]
  },
  {
   "cell_type": "markdown",
   "metadata": {},
   "source": [
    "## 2 Neural Networks"
   ]
  },
  {
   "cell_type": "code",
   "execution_count": null,
   "metadata": {},
   "outputs": [],
   "source": []
  }
 ],
 "metadata": {
  "kernelspec": {
   "display_name": "Python 3",
   "language": "python",
   "name": "python3"
  },
  "language_info": {
   "codemirror_mode": {
    "name": "ipython",
    "version": 3
   },
   "file_extension": ".py",
   "mimetype": "text/x-python",
   "name": "python",
   "nbconvert_exporter": "python",
   "pygments_lexer": "ipython3",
   "version": "3.7.3"
  }
 },
 "nbformat": 4,
 "nbformat_minor": 2
}
