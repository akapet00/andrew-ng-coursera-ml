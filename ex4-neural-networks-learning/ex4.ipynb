{
 "cells": [
  {
   "cell_type": "markdown",
   "metadata": {},
   "source": [
    "# Neural Networks Learning\n",
    "\n",
    "## 1 Neural Network\n",
    "\n",
    "Trough this excercise, the backpropagation algorithm for neural networks is developed and implemented to learn hand-written digit recognition problem.\n",
    "\n",
    "\n",
    "### 1.1 Data visualization\n",
    "\n",
    "There are 5000 training examples in *ex4data1.mat*, where each training example is a 20 pixel by 20 pixel grayscale image of the digit. Each pixel is represented by a floating point number indicating the grayscale intensity at that location. The 20 by 20 grid of pixels is “unrolled” into a 400-dimensional vector. Each of these training examples becomes a single row in our data matrix X. This results in a 5000 by 400 matrix **X** where every row is a training example for a handwritten digit image."
   ]
  },
  {
   "cell_type": "code",
   "execution_count": 1,
   "metadata": {},
   "outputs": [],
   "source": [
    "import scipy.io as sio\n",
    "import numpy as np \n",
    "import matplotlib.pyplot as plt \n",
    "from matplotlib import style\n",
    "style.use('ggplot')\n",
    "%matplotlib inline\n",
    "from sklearn.preprocessing import OneHotEncoder"
   ]
  },
  {
   "cell_type": "code",
   "execution_count": 2,
   "metadata": {},
   "outputs": [
    {
     "name": "stdout",
     "output_type": "stream",
     "text": [
      "{'__header__': b'MATLAB 5.0 MAT-file, Platform: GLNXA64, Created on: Sun Oct 16 13:09:09 2011', '__version__': '1.0', '__globals__': [], 'X': array([[0., 0., 0., ..., 0., 0., 0.],\n",
      "       [0., 0., 0., ..., 0., 0., 0.],\n",
      "       [0., 0., 0., ..., 0., 0., 0.],\n",
      "       ...,\n",
      "       [0., 0., 0., ..., 0., 0., 0.],\n",
      "       [0., 0., 0., ..., 0., 0., 0.],\n",
      "       [0., 0., 0., ..., 0., 0., 0.]]), 'y': array([[10],\n",
      "       [10],\n",
      "       [10],\n",
      "       ...,\n",
      "       [ 9],\n",
      "       [ 9],\n",
      "       [ 9]], dtype=uint8)}\n",
      "X matrix shape: (5000, 400)\n",
      "y vector shape: (5000, 1)\n"
     ]
    }
   ],
   "source": [
    "# MNIST dataset, load and visualization\n",
    "dataset = sio.loadmat('ex4data1.mat')\n",
    "print(dataset)\n",
    "X = dataset['X']\n",
    "y = dataset['y']\n",
    "print(f'X matrix shape: {X.shape}')\n",
    "print(f'y vector shape: {y.shape}')"
   ]
  },
  {
   "cell_type": "code",
   "execution_count": 3,
   "metadata": {},
   "outputs": [
    {
     "data": {
      "image/png": "[encoded data removed]",
      "text/plain": [
       "<Figure size 504x504 with 4 Axes>"
      ]
     },
     "metadata": {
      "needs_background": "light"
     },
     "output_type": "display_data"
    }
   ],
   "source": [
    "rand_indices = np.random.randint(low=0, high=X.shape[0], size=4)\n",
    "plt.figure(figsize=(7,7))\n",
    "for i, rand_index in enumerate(rand_indices):\n",
    "    plt.subplot(2,2,i+1)\n",
    "    plt.title(f'label y = {y[rand_index]}')\n",
    "    plt.gray()\n",
    "    plt.grid()\n",
    "    plt.imshow(X[rand_index].reshape(20,20).T)"
   ]
  },
  {
   "cell_type": "markdown",
   "metadata": {},
   "source": [
    "### 1.2 Model representation\n",
    "\n",
    "To start with the feedforward algorithm, parameters theta 1 and theta 2 (weights between input and hidden layer, and hidden and output layer) are stored in *ex4weights.mat*.\n",
    "![nn](nn.png)"
   ]
  },
  {
   "cell_type": "code",
   "execution_count": 4,
   "metadata": {},
   "outputs": [
    {
     "name": "stdout",
     "output_type": "stream",
     "text": [
      "b'MATLAB 5.0 MAT-file, Platform: GLNXA64, Created on: Tue Oct 18 14:57:02 2011'\n",
      "Theta1 shape: (25, 401)\n",
      "Theta2 shape: (10, 26)\n"
     ]
    }
   ],
   "source": [
    "# initial weights\n",
    "weights = sio.loadmat('ex4weights.mat')\n",
    "print(weights['__header__'])\n",
    "Theta1 = weights['Theta1']\n",
    "Theta2 = weights['Theta2']\n",
    "print(f'Theta1 shape: {Theta1.shape}')\n",
    "print(f'Theta2 shape: {Theta2.shape}')"
   ]
  },
  {
   "cell_type": "markdown",
   "metadata": {},
   "source": [
    "### 1.3 Feedforward and cost funtion\n",
    "\n",
    "A neural network's cost function (without regularization) is defined as:\n",
    "$$ J(\\theta) = \\frac{1}{m}\\sum_{i=1}^{m}\\sum_{k=1}^{K}[-y^{(i)}\\log(h_{\\theta}(x^{(i)})) - (1-y^{(i)})\\log(1-h_{\\theta}(x^{i}))]$$\n",
    "\n",
    "where $h_{\\theta}(x^{(i)})$ is computed as shown in Model representation figure and $ K $} is the total number of possible labels, in this case $ K = 10 $. \n",
    "\n",
    "In this case, where the neural network consists of 3 layer, term $h_{\\theta}(x^{(i)})$ is the activation (output value) of the *k*-th output unit, $a_{k}^{(3)}$, where the output unit is calculated via feedforward algorithm as follows:\n",
    "$$\n",
    "z^{(2)} = \\theta^{(1)} x\n",
    "$$\n",
    "\n",
    "where $x$ can be written as $x=a^{(1)}$,\n",
    "$$\n",
    "a^{(2)} = g(z^{(2)}) \n",
    "$$\n",
    "\n",
    "$$\n",
    "a_{0}^{2} = +1\n",
    "$$\n",
    "\n",
    "Finally, we have value for $z^{(3)}$:\n",
    "$$\n",
    "z^{(3)} = \\theta^{(2)} a^{(2)}\n",
    "$$\n",
    "\n",
    "Output is then defined as:\n",
    "$$\n",
    "h_{\\theta}(x) = a^{(3)} = g(z^{(3)})\n",
    "$$\n",
    "where $ g $ is sigmoid function defined as:\n",
    "\n",
    "$$ \n",
    "g(z) = \\frac{1}{1 + e^{-z}}.\n",
    "$$\n",
    "\n",
    "Also, note that y has to be encoded in a way that labels 0, 1, ..., 9 are vectors containing only values 0 or 1.\n",
    "\n",
    "After the regularization is applied, cost function is defined as:\n",
    "$$ J(\\theta) = \\frac{1}{m}\\sum_{i=1}^{m}\\sum_{k=1}^{K}[-y^{(i)}\\log(h_{\\theta}(x^{(i)})) - (1-y^{(i)})\\log(1-h_{\\theta}(x^{i}))] + + \\frac{\\lambda}{2m}[\\sum_{j=1}^{25}\\sum_{k=1}^{400}(\\theta_{j,k}^{(1)})^2 + \\sum_{j=1}^{10}\\sum_{k=1}^{25}(\\theta_{j,k}^{(2)})^2] $$"
   ]
  },
  {
   "cell_type": "code",
   "execution_count": 5,
   "metadata": {},
   "outputs": [],
   "source": [
    "# architecture\n",
    "input_layer_size = 400\n",
    "hidden_layer_size = 25\n",
    "num_labels = 10\n",
    "nn_params = np.r_[Theta1.ravel(), Theta2.ravel()]"
   ]
  },
  {
   "cell_type": "code",
   "execution_count": 48,
   "metadata": {},
   "outputs": [],
   "source": [
    "def sigmoid(z):\n",
    "    return 1.0 / (1.0 + np.exp(-z))\n",
    "    \n",
    "def nnCostFunction(nn_params, input_layer_size, hidden_layer_size, num_labels, X, y, _lambda=0):\n",
    "    # recovering already trained weights from flattened array\n",
    "    Theta1 = nn_params[:((input_layer_size + 1) * hidden_layer_size)].reshape(hidden_layer_size, input_layer_size+1)\n",
    "    Theta2 = nn_params[((input_layer_size + 1) * hidden_layer_size):].reshape(num_labels, (hidden_layer_size+1))\n",
    "\n",
    "    # number of training examples\n",
    "    m = X.shape[0]\n",
    "\n",
    "    # encode y to (5000, 10) sparse matrix\n",
    "    enc = OneHotEncoder(categories='auto')\n",
    "    y_enc = enc.fit_transform(y).toarray()\n",
    "\n",
    "    # feedforward\n",
    "    # input layer\n",
    "    X_bias = np.concatenate((np.ones((m, 1)), X), axis=1)\n",
    "    # hidden layer\n",
    "    z2 = X_bias @ Theta1.T # (5000, 25) = (5000, 401) x (401, 25)\n",
    "    a2 = sigmoid(z2) # (5000, 25)\n",
    "    a2 = np.concatenate((np.ones((m, 1)), a2), axis=1) # (5000, 26)\n",
    "    # output layer - hypothesis\n",
    "    z3 = a2 @ Theta2.T # (5000, 10) = (5000, 26) x (26,10)\n",
    "    a3 = sigmoid(z3) # (5000, 10)\n",
    "    \n",
    "    # cost function with regularization term (not applied on first column of bias term of theta 1 and 2)\n",
    "    err = (_lambda/(2*m)) * (np.sum(np.sum(Theta1[:,1:]**2) + np.sum(np.sum(Theta2[:,1:]**2))))\n",
    "    J = -1*(1/m) *np.sum((np.log(a3)*(y_enc) + np.log(1-a3)*(1-y_enc)))\n",
    "    J = J + err\n",
    "    \n",
    "    # backprop\n",
    "    d3 = a3 - y_enc # (5000, 10)\n",
    "    d2 = Theta2[:,1:].T @ d3.T * sigmoidGradient(z2.T) # (25, 5000) = (25, 10) x (10, 5000) * (25, 5000)\n",
    "    \n",
    "    delta1 = d2 @ X_bias # (25, 401) = (25, 5000) x (5000, 401)\n",
    "    delta2 = d3.T @ a2 # (10, 26) = (10, 5000) x (5000, 26)\n",
    "    \n",
    "    Theta1_ = np.c_[np.ones((Theta1.shape[0],1)), Theta1[:,1:]]\n",
    "    Theta2_ = np.c_[np.ones((Theta2.shape[0],1)), Theta2[:,1:]]\n",
    "    \n",
    "    Theta1_grad = (delta1/m) + (Theta1_*_lambda)/m\n",
    "    Theta2_grad = (delta2/m) + (Theta2_*_lambda)/m\n",
    "\n",
    "    return J, Theta1_grad, Theta2_grad"
   ]
  },
  {
   "cell_type": "code",
   "execution_count": 50,
   "metadata": {},
   "outputs": [
    {
     "name": "stdout",
     "output_type": "stream",
     "text": [
      "Value of the initial cost (_lambda = 0): 0.2876291651613189\n",
      "Value should be about 0.287629\n",
      "Value of the initial cost (_lambda = 1): 0.38376985909092365\n",
      "Value should be about 0.383770\n"
     ]
    }
   ],
   "source": [
    "# cost without regularization\n",
    "_lambda = 0 \n",
    "J, _, _ = nnCostFunction(nn_params, input_layer_size, hidden_layer_size, num_labels, X, y, _lambda)\n",
    "print(f'Value of the initial cost (_lambda = {_lambda}): {J}')\n",
    "print('Value should be about 0.287629')\n",
    "\n",
    "# cost without regularization\n",
    "_lambda = 1\n",
    "J, _, _ = nnCostFunction(nn_params, input_layer_size, hidden_layer_size, num_labels, X, y, _lambda)\n",
    "print(f'Value of the initial cost (_lambda = {_lambda}): {J}')\n",
    "print('Value should be about 0.383770')"
   ]
  },
  {
   "cell_type": "markdown",
   "metadata": {},
   "source": [
    "## 2 Backpropagation\n",
    "\n",
    "The backpropagation algorithm cmputes the gradient for the neural network cost function. \n",
    "\n",
    "Once the gradient is computed, the neural network will be ready for training (minimizing the cost function using some form of optimization function such as *fmincg*).\n",
    "\n",
    "### 2.1 Sigmoid gradient\n",
    "\n",
    "The gradient for the sigmoid function can be computed as:\n",
    "$$\n",
    "g'(z) = \\frac{d}{dz}g(z) = g(z)(1-g(z))\n",
    "$$\n",
    "\n",
    "where $g(z)$ is sigmoid function."
   ]
  },
  {
   "cell_type": "code",
   "execution_count": 51,
   "metadata": {},
   "outputs": [],
   "source": [
    "def sigmoidGradient(z):\n",
    "    return sigmoid(z) * (1 - sigmoid(z))"
   ]
  },
  {
   "cell_type": "markdown",
   "metadata": {},
   "source": [
    "### 2.2 Random initialization\n",
    "\n",
    "When training neural networks, it is important to randomly initialize the parameters for symmetry breaking. One effective strategy for random initialization is to randomly select values for weights uniformly in the range $[-\\epsilon_{init}, \\epsilon_{init}]$.\n",
    "\n",
    "The effective strategy for choosing $\\epsilon_{init}$ is to base it on the number of units in the network, for example:\n",
    "$$\n",
    "\\epsilon_{init} = \\frac{\\sqrt{6}}{\\sqrt{L_{in} + L_{out}}}\n",
    "$$\n",
    "\n",
    "where $L_{in}$ is the number of input units and $L_{out}$ is the number of inputs in the adjacent layer plus 1."
   ]
  },
  {
   "cell_type": "code",
   "execution_count": 52,
   "metadata": {},
   "outputs": [],
   "source": [
    "def randInitializeWeights(L_in, L_out):\n",
    "    epsilon_init = 0.12\n",
    "    return (np.random.uniform(low=0.0, high=1.0, \n",
    "                             size=(L_out, 1 + L_in)) \\\n",
    "            * 2 * epsilon_init) - epsilon_init"
   ]
  },
  {
   "cell_type": "code",
   "execution_count": 53,
   "metadata": {},
   "outputs": [],
   "source": [
    "initial_Theta1 = randInitializeWeights(input_layer_size, hidden_layer_size)\n",
    "initial_Theta2 = randInitializeWeights(hidden_layer_size, num_labels)\n",
    "\n",
    "initial_nn_params = np.r_[initial_Theta1.ravel(), initial_Theta2.ravel()]"
   ]
  },
  {
   "cell_type": "markdown",
   "metadata": {},
   "source": [
    "### 2.3 Backpropagation\n",
    "\n",
    "For each training example $(x^{(i)}, y^{(i)})$, we first performe a forward pass to compute all activations throughout the network, including the output hypothesis and then, for each node $j$ in layel $l$, we compute error term $\\delta_{j}^{(l)}$.\n",
    "All gradients should be accumulated in the capital delta matrix.\n",
    "\n",
    "![nn](backprop.png)"
   ]
  },
  {
   "cell_type": "code",
   "execution_count": 54,
   "metadata": {},
   "outputs": [],
   "source": [
    "# todo\n",
    "# razbit backprop na cost i gradiente\n",
    "# ucenje priko fmincg ?\n",
    "# vizualizacija tezina\n",
    "# predikcija i accuracy score"
   ]
  },
  {
   "cell_type": "markdown",
   "metadata": {},
   "source": [
    "### 2.4 Learning parameters"
   ]
  },
  {
   "cell_type": "code",
   "execution_count": null,
   "metadata": {},
   "outputs": [],
   "source": []
  }
 ],
 "metadata": {
  "kernelspec": {
   "display_name": "Python 3",
   "language": "python",
   "name": "python3"
  },
  "language_info": {
   "codemirror_mode": {
    "name": "ipython",
    "version": 3
   },
   "file_extension": ".py",
   "mimetype": "text/x-python",
   "name": "python",
   "nbconvert_exporter": "python",
   "pygments_lexer": "ipython3",
   "version": "3.7.3"
  }
 },
 "nbformat": 4,
 "nbformat_minor": 2
}
