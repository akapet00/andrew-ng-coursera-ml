{
 "cells": [
  {
   "cell_type": "markdown",
   "metadata": {},
   "source": [
    "# Regularized Linear Regression and Bias vs. Variance"
   ]
  },
  {
   "cell_type": "markdown",
   "metadata": {},
   "source": [
    "## 1 Regularized linear regression\n",
    "\n",
    "Implemented regularized linear regression to predict the amount of water flowing out of a dam using the change of water level in a reservoir.\n",
    "\n",
    "### 1.1 Visualizing the dataset\n",
    "\n",
    "The dataset is divided into three parts:\n",
    "* a **training** set that the model will learn on: $X$, $y$\n",
    "* a **cross validation** set for determining the regularization parameter: $Xval$, $yval$\n",
    "* a **test** set for evaluating performance, should remain unseen to prevent data leakage: $Xtest$, $ytest$"
   ]
  },
  {
   "cell_type": "code",
   "execution_count": 2,
   "metadata": {},
   "outputs": [],
   "source": [
    "import numpy as np\n",
    "from scipy.io import loadmat\n",
    "import matplotlib.pyplot as plt \n",
    "from matplotlib import style\n",
    "style.use('ggplot')\n",
    "%matplotlib inline "
   ]
  },
  {
   "cell_type": "code",
   "execution_count": 4,
   "metadata": {},
   "outputs": [
    {
     "name": "stdout",
     "output_type": "stream",
     "text": [
      "b'MATLAB 5.0 MAT-file, Platform: GLNXA64, Created on: Fri Nov  4 22:27:26 2011'\n",
      "\n",
      "size of X: (12, 1)\n",
      "size of y: (12, 1)\n",
      "size of Xval: (21, 1)\n",
      "size of yval: (21, 1)\n",
      "size of Xtest: (21, 1)\n",
      "size of ytest: (21, 1)\n"
     ]
    }
   ],
   "source": [
    "dataset = loadmat('ex5data1.mat')\n",
    "print(dataset['__header__'])\n",
    "X, y = dataset['X'], dataset['y']\n",
    "Xval, yval = dataset['Xval'], dataset['yval']\n",
    "Xtest, ytest = dataset['Xtest'], dataset['ytest']\n",
    "print()\n",
    "print(f'size of X: {X.shape}')\n",
    "print(f'size of y: {y.shape}')\n",
    "print(f'size of Xval: {Xval.shape}')\n",
    "print(f'size of yval: {yval.shape}')\n",
    "print(f'size of Xtest: {Xtest.shape}')\n",
    "print(f'size of ytest: {ytest.shape}')"
   ]
  },
  {
   "cell_type": "code",
   "execution_count": 11,
   "metadata": {},
   "outputs": [
    {
     "data": {
      "image/png": "[encoded data removed]",
      "text/plain": [
       "<Figure size 432x288 with 1 Axes>"
      ]
     },
     "metadata": {
      "needs_background": "light"
     },
     "output_type": "display_data"
    }
   ],
   "source": [
    "plt.plot(X.ravel(), y.ravel(), \n",
    "         marker='x', markersize=7, c='red', \n",
    "         linestyle='None')\n",
    "plt.xlabel('Change in water level (X)')\n",
    "plt.ylabel('Water flowing out of the dam (y)')\n",
    "plt.show()"
   ]
  },
  {
   "cell_type": "markdown",
   "metadata": {},
   "source": [
    "### 1.2 Regularized linear regression cost function\n"
   ]
  },
  {
   "cell_type": "code",
   "execution_count": 12,
   "metadata": {},
   "outputs": [],
   "source": [
    "#tba"
   ]
  },
  {
   "cell_type": "code",
   "execution_count": null,
   "metadata": {},
   "outputs": [],
   "source": []
  }
 ],
 "metadata": {
  "kernelspec": {
   "display_name": "Python 3",
   "language": "python",
   "name": "python3"
  },
  "language_info": {
   "codemirror_mode": {
    "name": "ipython",
    "version": 3
   },
   "file_extension": ".py",
   "mimetype": "text/x-python",
   "name": "python",
   "nbconvert_exporter": "python",
   "pygments_lexer": "ipython3",
   "version": "3.7.3"
  }
 },
 "nbformat": 4,
 "nbformat_minor": 2
}
