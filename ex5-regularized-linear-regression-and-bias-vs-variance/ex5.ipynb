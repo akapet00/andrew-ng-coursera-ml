{
 "cells": [
  {
   "cell_type": "markdown",
   "metadata": {},
   "source": [
    "# Regularized Linear Regression and Bias vs. Variance"
   ]
  },
  {
   "cell_type": "markdown",
   "metadata": {},
   "source": [
    "## 1 Regularized linear regression\n",
    "\n",
    "Implemented regularized linear regression to predict the amount of water flowing out of a dam using the change of water level in a reservoir.\n",
    "\n",
    "### 1.1 Visualizing the dataset\n",
    "\n",
    "The dataset is divided into three parts:\n",
    "* a **training** set that the model will learn on: $X$, $y$\n",
    "* a **cross validation** set for determining the regularization parameter: $Xval$, $yval$\n",
    "* a **test** set for evaluating performance, should remain unseen to prevent data leakage: $Xtest$, $ytest$"
   ]
  },
  {
   "cell_type": "code",
   "execution_count": 1,
   "metadata": {},
   "outputs": [],
   "source": [
    "import numpy as np\n",
    "from scipy.io import loadmat\n",
    "from scipy.optimize import fmin_cg\n",
    "import matplotlib.pyplot as plt \n",
    "from matplotlib import style\n",
    "style.use('ggplot')\n",
    "%matplotlib inline "
   ]
  },
  {
   "cell_type": "code",
   "execution_count": 2,
   "metadata": {},
   "outputs": [
    {
     "name": "stdout",
     "output_type": "stream",
     "text": [
      "b'MATLAB 5.0 MAT-file, Platform: GLNXA64, Created on: Fri Nov  4 22:27:26 2011'\n",
      "\n",
      "size of X: (12, 1)\n",
      "size of y: (12, 1)\n",
      "size of Xval: (21, 1)\n",
      "size of yval: (21, 1)\n",
      "size of Xtest: (21, 1)\n",
      "size of ytest: (21, 1)\n"
     ]
    }
   ],
   "source": [
    "dataset = loadmat('ex5data1.mat')\n",
    "print(dataset['__header__'])\n",
    "X, y = dataset['X'], dataset['y']\n",
    "Xval, yval = dataset['Xval'], dataset['yval']\n",
    "Xtest, ytest = dataset['Xtest'], dataset['ytest']\n",
    "print()\n",
    "print(f'size of X: {X.shape}')\n",
    "print(f'size of y: {y.shape}')\n",
    "print(f'size of Xval: {Xval.shape}')\n",
    "print(f'size of yval: {yval.shape}')\n",
    "print(f'size of Xtest: {Xtest.shape}')\n",
    "print(f'size of ytest: {ytest.shape}')"
   ]
  },
  {
   "cell_type": "code",
   "execution_count": 3,
   "metadata": {},
   "outputs": [
    {
     "data": {
      "image/png": "[encoded data removed]",
      "text/plain": [
       "<Figure size 432x288 with 1 Axes>"
      ]
     },
     "metadata": {
      "needs_background": "light"
     },
     "output_type": "display_data"
    }
   ],
   "source": [
    "plt.plot(X.ravel(), y.ravel(), \n",
    "         marker='x', markersize=7, c='red', \n",
    "         linestyle='None')\n",
    "plt.xlabel('Change in water level (X)')\n",
    "plt.ylabel('Water flowing out of the dam (y)')\n",
    "plt.show()"
   ]
  },
  {
   "cell_type": "markdown",
   "metadata": {},
   "source": [
    "### 1.2 Regularized linear regression cost function\n"
   ]
  },
  {
   "cell_type": "markdown",
   "metadata": {},
   "source": [
    "The regularized linear regression has the following form of the cost function:\n",
    "\n",
    "$$ J(\\theta) = \\frac{1}{2m}\\sum_{i=1}^{m}(h_{\\theta}(x^{(i)}) - y^{(i)})^2 + \\frac{\\lambda}{2m}\\sum_{j=1}^{n}\\theta_{j}^{2}$$\n",
    "where $\\lambda$ is regularization parameter which controls the degree of regularization and helps preventing overfitting."
   ]
  },
  {
   "cell_type": "code",
   "execution_count": 4,
   "metadata": {},
   "outputs": [],
   "source": [
    "def cost(theta, X, y, _lambda):\n",
    "    m = len(y)\n",
    "    theta = theta.reshape(-1,1)\n",
    "    \n",
    "    h = X @ theta\n",
    "    J = 1/(2*m) * np.sum((h-y)**2)\n",
    "    reg = _lambda/(2*m) * np.sum(theta[1:]**2)\n",
    "    return J + reg"
   ]
  },
  {
   "cell_type": "code",
   "execution_count": 5,
   "metadata": {},
   "outputs": [
    {
     "name": "stdout",
     "output_type": "stream",
     "text": [
      "cost at theta=[1; 1]: 303.9931922202643\n",
      "this value should be about 303.993192\n"
     ]
    }
   ],
   "source": [
    "theta = np.array([1,1]).reshape(-1,1)\n",
    "X_bias = np.concatenate((np.ones((X.shape[0], 1)), X), axis=1)\n",
    "J = cost(theta, X_bias, y, _lambda=1)\n",
    "\n",
    "print(f'cost at theta=[1; 1]: {J}')\n",
    "print('this value should be about 303.993192')"
   ]
  },
  {
   "cell_type": "markdown",
   "metadata": {},
   "source": [
    "### 1.3 Regularized linear regression gradient\n",
    "\n",
    "The partial derivative of regularized linear regression's cost for $\\theta_{j}$ is defined as:\n",
    "\n",
    "$\n",
    "\\frac{\\partial J(\\theta)}{\\partial \\theta_{0}} = \\frac{1}{m} \\sum_{i=1}^{m}(h_{\\theta}(x^{(i)} - y^{(i)})x_{j}^{(i)}\n",
    "$ for $j=0$\n",
    "\n",
    "$\n",
    "\\frac{\\partial J(\\theta)}{\\partial \\theta_{0}} = (\\frac{1}{m} \\sum_{i=1}^{m}(h_{\\theta}(x^{(i)} - y^{(i)})x_{j}^{(i)}) + \\frac{\\lambda}{m}\\theta_{j}\n",
    "$ for $j \\geq 1$"
   ]
  },
  {
   "cell_type": "code",
   "execution_count": 6,
   "metadata": {},
   "outputs": [],
   "source": [
    "def grad(theta, X, y, _lambda):\n",
    "    m = len(y)\n",
    "    theta = theta.reshape(-1,1)\n",
    "    \n",
    "    h = X @ theta\n",
    "    g = 1/m * X.T @ (h - y)\n",
    "    g[1:] = g[1:] + (_lambda * theta[1:] / m)\n",
    "    return g.flatten()"
   ]
  },
  {
   "cell_type": "code",
   "execution_count": 7,
   "metadata": {},
   "outputs": [
    {
     "name": "stdout",
     "output_type": "stream",
     "text": [
      "gradient at theta=[1; 1]: [-15.30301567 598.25074417]\n",
      "this value should be [-15.30; 598.25]\n"
     ]
    }
   ],
   "source": [
    "g = grad(theta, X_bias, y, _lambda=1)\n",
    "\n",
    "print(f'gradient at theta=[1; 1]: {g}')\n",
    "print('this value should be [-15.30; 598.25]')"
   ]
  },
  {
   "cell_type": "markdown",
   "metadata": {},
   "source": [
    "### 1.4 Fitting linear regression\n",
    "\n",
    "Training is done using function *fmincg* to optimize the cost function, or to find thetas which result in minimum of the defined cost function."
   ]
  },
  {
   "cell_type": "code",
   "execution_count": 8,
   "metadata": {},
   "outputs": [],
   "source": [
    "def train(X, y, _lambda):\n",
    "    # X should have already bias init\n",
    "    init_theta = np.zeros((X.shape[1], 1))\n",
    "    theta, theta_history = fmin_cg(f = cost,\n",
    "                                   x0 = init_theta,\n",
    "                                   fprime = grad,\n",
    "                                   args = (X, y, _lambda),\n",
    "                                   maxiter = 200,\n",
    "                                   disp = 0,\n",
    "                                   retall = 1,) # disable retall for no theta_history\n",
    "    return theta, theta_history"
   ]
  },
  {
   "cell_type": "code",
   "execution_count": 9,
   "metadata": {},
   "outputs": [],
   "source": [
    "_lambda = 0 # no regularization will be applied\n",
    "theta, theta_history = train(X_bias, y, _lambda)"
   ]
  },
  {
   "cell_type": "code",
   "execution_count": 10,
   "metadata": {},
   "outputs": [
    {
     "data": {
      "image/png": "[encoded data removed]",
      "text/plain": [
       "<Figure size 432x288 with 1 Axes>"
      ]
     },
     "metadata": {
      "needs_background": "light"
     },
     "output_type": "display_data"
    }
   ],
   "source": [
    "plt.plot(X, y, label='data',\n",
    "         marker='x', markersize=7, c='red', linestyle='None')\n",
    "plt.plot(X, X_bias @ theta, label='fit',\n",
    "         c = 'blue', linestyle='--',)\n",
    "plt.xlabel('Change in water level (X)')\n",
    "plt.ylabel('Water flowing out of the dam (y)')\n",
    "plt.legend(loc='best')\n",
    "plt.show()"
   ]
  },
  {
   "cell_type": "markdown",
   "metadata": {},
   "source": [
    "## 2 Bias-variance\n",
    "\n",
    "An important concept in machine learning is the bias-variance tradeoff. Models with high bias are not complex enough for the data and tend to **underfit**, while models with high variance **overfit** to the training data.\n",
    "\n",
    "### 2.1 Learning curves\n",
    "\n",
    "Learning curve plots training and cross validation error as a function of training set size. \n",
    "\n",
    "To plot the learning curve, training and cross validation set error needs to be plotted for different *training* set sizes. \n",
    "This does not require applying any regularization to the cost function, which means cost functions are defined as follows:\n",
    "\n",
    "$$\n",
    "J_{train}(\\theta) = \\frac{1}{2m}\\sum_{i=1}^{m}(h_{\\theta}(x^{(i)}) - y^{(i)})^2\n",
    "$$\n",
    "\n",
    "$$\n",
    "J_{cv}(\\theta) = \\frac{1}{2m_{cv}}\\sum_{j=1}^{m_{cv}}(h_{\\theta}(x^{(j)}) - y^{(j)})^2\n",
    "$$\n",
    "\n",
    "When the training set error is computed, only subset of current iteration should be used; however, for the cross validation error, the entire cross validation set should be used."
   ]
  },
  {
   "cell_type": "code",
   "execution_count": 11,
   "metadata": {},
   "outputs": [],
   "source": [
    "def learningCurve(X, y, Xval, yval, _lambda):\n",
    "    m = X.shape[0]\n",
    "    error_train = np.zeros((m+1, 1))\n",
    "    error_cv = np.zeros((m+1, 1))\n",
    "    \n",
    "    for i in range(1, m+1):\n",
    "        theta, theta_history = train(X[:i, :], y[:i], _lambda)\n",
    "        error_train[i] = cost(theta, X[:i, :], y[:i], _lambda)\n",
    "        error_cv[i] = cost(theta, Xval, yval, _lambda)\n",
    "    return error_train, error_cv"
   ]
  },
  {
   "cell_type": "code",
   "execution_count": 12,
   "metadata": {},
   "outputs": [
    {
     "data": {
      "image/png": "[encoded data removed]",
      "text/plain": [
       "<Figure size 432x288 with 1 Axes>"
      ]
     },
     "metadata": {
      "needs_background": "light"
     },
     "output_type": "display_data"
    }
   ],
   "source": [
    "_lambda = 0 # NO regularization here, we want to inspect bias and variance\n",
    "Xval_bias = np.concatenate((np.ones((Xval.shape[0], 1)), Xval), axis=1)\n",
    "error_train, error_cv = learningCurve(X_bias, y, Xval_bias, yval, _lambda)\n",
    "\n",
    "size_of_training_set = [i for i in range(1, len(y)+1)]\n",
    "plt.plot(size_of_training_set, error_train[1:], c='red', label='train set')\n",
    "plt.plot(size_of_training_set, error_cv[1:], c='blue', label='cross validation set')\n",
    "plt.xlabel('# of training examples')\n",
    "plt.ylabel('error')\n",
    "plt.ylim([0, 150])\n",
    "plt.legend(loc='best')\n",
    "plt.show()"
   ]
  },
  {
   "cell_type": "code",
   "execution_count": 13,
   "metadata": {},
   "outputs": [
    {
     "name": "stdout",
     "output_type": "stream",
     "text": [
      "#\ttrain error\tcv error\n",
      "1\t0.0\t\t205.1211\n",
      "2\t0.0\t\t110.3004\n",
      "3\t3.2866\t\t45.0102\n",
      "4\t2.8427\t\t48.3689\n",
      "5\t13.154\t\t35.8651\n",
      "6\t19.444\t\t33.83\n",
      "7\t20.0985\t\t31.971\n",
      "8\t18.1729\t\t30.8624\n",
      "9\t22.6094\t\t31.136\n",
      "10\t23.2615\t\t28.9362\n",
      "11\t24.3172\t\t29.5514\n",
      "12\t22.3739\t\t29.4338\n"
     ]
    }
   ],
   "source": [
    "print(f'#\\ttrain error\\tcv error')\n",
    "for i, s in enumerate(size_of_training_set):\n",
    "    print(f'{i+1}\\t{np.round(error_train[i+1].squeeze(), 4)}\\t\\t{np.round(error_cv[i+1].squeeze(), 4)}')"
   ]
  },
  {
   "cell_type": "markdown",
   "metadata": {},
   "source": [
    "Learning curve shows extremely high cost function for both the train error and cross validation error. This reflect **high bias** problem in the model - the linear regression model is too simple and is unable to fit dataset well. \n",
    "More complex model, with more features, should be applied on this data."
   ]
  },
  {
   "cell_type": "markdown",
   "metadata": {},
   "source": [
    "# 3 Polynomial regression\n",
    "\n",
    "When the resulting model is too simple, it often results in underfitting (high bias). Here, the polynomial regression will be used. In its simplest form, the general hypothesis for the polynomial regression has the following form:\n",
    "\n",
    "$$\n",
    "h_{\\theta}(x) = \\theta_{0} + \\theta_{1}x + \\theta_{2}x^2 + ... + \\theta_{p}x^p = \\sum_{i=0}^{p}\\theta_{i}x^i \n",
    "$$\n",
    "\n",
    "On the existing dataset, new, higher power features can be added with function that maps the original training set of size $m \\times 1$ to a $m \\times p$ matrix where column 1 holds the original values of the dataset, column 2 holds the values of squared values of dataset and so on. "
   ]
  },
  {
   "cell_type": "code",
   "execution_count": 14,
   "metadata": {},
   "outputs": [],
   "source": [
    "def featureNormalize(X):\n",
    "    mu = np.mean(X, axis=0)\n",
    "    sigma = np.std(X-mu, axis=0, ddof=1)\n",
    "    return (X-mu)/sigma, mu, sigma\n",
    "\n",
    "def polyFeatures(X, p):\n",
    "    X_poly = np.zeros((X.shape[0], p))\n",
    "    for i in range(p):\n",
    "        X_poly[:, i] = np.power(X.ravel(), i+1)\n",
    "    return X_poly"
   ]
  },
  {
   "cell_type": "code",
   "execution_count": 15,
   "metadata": {},
   "outputs": [],
   "source": [
    "p = 8\n",
    "X_poly = polyFeatures(X, p)\n",
    "X_poly, mu, sigma = featureNormalize(X_poly) # normalization\n",
    "X_poly_bias = np.concatenate((np.ones((X.shape[0], 1)), X_poly), axis=1)\n",
    "\n",
    "X_poly_test = polyFeatures(Xtest, p)\n",
    "X_poly_test -= mu\n",
    "X_poly_test /= sigma\n",
    "X_poly_test_bias = np.concatenate((np.ones((X_poly_test.shape[0], 1)), X_poly_test), axis=1)\n",
    "\n",
    "X_poly_cv = polyFeatures(Xtest, p)\n",
    "X_poly_cv -= mu\n",
    "X_poly_cv /= sigma\n",
    "X_poly_cv_bias = np.concatenate((np.ones((X_poly_cv.shape[0], 1)), X_poly_cv), axis=1)"
   ]
  },
  {
   "cell_type": "code",
   "execution_count": 16,
   "metadata": {},
   "outputs": [
    {
     "name": "stdout",
     "output_type": "stream",
     "text": [
      "normalized training example 1:\n",
      " [[ 1.        ]\n",
      " [-0.36214078]\n",
      " [-0.75508669]\n",
      " [ 0.18222588]\n",
      " [-0.70618991]\n",
      " [ 0.30661792]\n",
      " [-0.59087767]\n",
      " [ 0.3445158 ]\n",
      " [-0.50848117]]\n"
     ]
    }
   ],
   "source": [
    "print(f'normalized training example 1:\\n {X_poly_bias[0, :].reshape(-1,1)}')"
   ]
  },
  {
   "cell_type": "markdown",
   "metadata": {},
   "source": [
    "### 3.1 Learning polynomial regression\n",
    "\n",
    "Even though there are polynomail terms in the training set, this is still linear regression optimization problem: the polynomial terms have simply turnedd into features that we can use for linear regression."
   ]
  },
  {
   "cell_type": "code",
   "execution_count": 17,
   "metadata": {},
   "outputs": [],
   "source": [
    "def plotFit(X, y, mu, sigma, theta, p):\n",
    "    plt.plot(X, y, label='data',\n",
    "         marker='x', markersize=7, linestyle='None',)\n",
    "\n",
    "    _x = np.linspace(min(X) - 25, max(X) + 25, 100).reshape(-1, 1)\n",
    "    X_poly = polyFeatures(_x, p)\n",
    "    # normalization using mu(X) and sigma(X) from original dataset\n",
    "    X_poly -= mu\n",
    "    X_poly /= sigma\n",
    "    X_poly_bias = np.concatenate((np.ones((X_poly.shape[0], 1)), X_poly), axis=1)\n",
    "\n",
    "    plt.plot(_x, X_poly_bias @ theta, label='fit',\n",
    "             c='b', linestyle='--')\n",
    "    plt.legend(loc='best')\n",
    "    plt.xlabel('Change in water level (x)')\n",
    "    plt.ylabel('Water flowing out of the dam (y)')"
   ]
  },
  {
   "cell_type": "code",
   "execution_count": 18,
   "metadata": {},
   "outputs": [
    {
     "data": {
      "image/png": "[encoded data removed]",
      "text/plain": [
       "<Figure size 432x288 with 1 Axes>"
      ]
     },
     "metadata": {
      "needs_background": "light"
     },
     "output_type": "display_data"
    }
   ],
   "source": [
    "theta, theta_history = train(X_poly_bias, y, _lambda=0)\n",
    "plotFit(X, y, mu, sigma, theta, p)\n",
    "plt.show()"
   ]
  },
  {
   "cell_type": "code",
   "execution_count": 19,
   "metadata": {},
   "outputs": [
    {
     "data": {
      "image/png": "[encoded data removed]",
      "text/plain": [
       "<Figure size 432x288 with 1 Axes>"
      ]
     },
     "metadata": {
      "needs_background": "light"
     },
     "output_type": "display_data"
    }
   ],
   "source": [
    "_lambda = 0\n",
    "error_train, error_cv = learningCurve(X_poly_bias, y, X_poly_cv_bias, yval, _lambda)\n",
    "\n",
    "size_of_training_set = [i for i in range(1, len(y)+1)]\n",
    "plt.plot(size_of_training_set, error_train[1:], c='red', label='train set')\n",
    "plt.plot(size_of_training_set, error_cv[1:], c='blue', label='cross validation set')\n",
    "plt.xlabel('# of training examples')\n",
    "plt.ylabel('error')\n",
    "plt.legend(loc='best')\n",
    "plt.show()"
   ]
  },
  {
   "cell_type": "markdown",
   "metadata": {},
   "source": [
    "### 3.3 Selecting $\\lambda$ using a cross validation set "
   ]
  },
  {
   "cell_type": "code",
   "execution_count": 20,
   "metadata": {},
   "outputs": [],
   "source": [
    "def validationCurve(X, y, Xval, yval):\n",
    "    _lambda_vec = [0, 0.001, 0.003, 0.01, 0.03, 0.1, 0.3, 1, 3, 10]\n",
    "    error_train = np.zeros((len(_lambda_vec), 1))\n",
    "    error_cv = np.zeros((len(_lambda_vec), 1))\n",
    "    \n",
    "    for i, _lambda in enumerate(_lambda_vec):\n",
    "        theta, theta_history = train(X, y, _lambda)\n",
    "        error_train[i] = cost(theta, X, y, 0)\n",
    "        error_cv[i] = cost(theta, Xval, yval, 0)\n",
    "    return _lambda_vec, error_train, error_cv"
   ]
  },
  {
   "cell_type": "code",
   "execution_count": 21,
   "metadata": {},
   "outputs": [
    {
     "data": {
      "image/png": "[encoded data removed]",
      "text/plain": [
       "<Figure size 432x288 with 1 Axes>"
      ]
     },
     "metadata": {
      "needs_background": "light"
     },
     "output_type": "display_data"
    }
   ],
   "source": [
    "_lambdas, error_train, error_cv = validationCurve(X_poly_bias, y, X_poly_cv_bias, yval)\n",
    "plt.plot(_lambdas, error_train, label='train set')\n",
    "plt.plot(_lambdas, error_cv, label='cv set')\n",
    "plt.xlabel('lambda')\n",
    "plt.ylabel('error')\n",
    "#plt.ylim([0, 20])\n",
    "plt.legend()\n",
    "plt.show()"
   ]
  },
  {
   "cell_type": "code",
   "execution_count": 22,
   "metadata": {},
   "outputs": [
    {
     "name": "stdout",
     "output_type": "stream",
     "text": [
      "lambda\t\ttrain error\t validation error\n",
      "0\t\t[0.04269739]\t[216.92709094]\n",
      "0.001\t\t[0.11312835]\t[177.30879669]\n",
      "0.003\t\t[0.17099095]\t[167.93773111]\n",
      "0.01\t\t[0.221549]\t[164.76086909]\n",
      "0.03\t\t[0.2818552]\t[166.08777363]\n",
      "0.1\t\t[0.45930336]\t[169.50329191]\n",
      "0.3\t\t[0.92175858]\t[170.65102369]\n",
      "1\t\t[2.0761793]\t[166.72949474]\n",
      "3\t\t[4.90134756]\t[151.07556335]\n",
      "10\t\t[16.09220998]\t[121.83859338]\n"
     ]
    }
   ],
   "source": [
    "print(f'lambda\\t\\ttrain error\\t validation error')\n",
    "for i, _lambda in enumerate(_lambdas):\n",
    "    print(f'{_lambda}\\t\\t{error_train[i]}\\t{error_cv[i]}')"
   ]
  },
  {
   "cell_type": "code",
   "execution_count": null,
   "metadata": {},
   "outputs": [],
   "source": []
  }
 ],
 "metadata": {
  "kernelspec": {
   "display_name": "Python 3",
   "language": "python",
   "name": "python3"
  },
  "language_info": {
   "codemirror_mode": {
    "name": "ipython",
    "version": 3
   },
   "file_extension": ".py",
   "mimetype": "text/x-python",
   "name": "python",
   "nbconvert_exporter": "python",
   "pygments_lexer": "ipython3",
   "version": "3.7.3"
  }
 },
 "nbformat": 4,
 "nbformat_minor": 2
}
