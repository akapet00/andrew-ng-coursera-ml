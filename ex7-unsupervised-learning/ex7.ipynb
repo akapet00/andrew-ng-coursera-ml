{
 "cells": [
  {
   "cell_type": "markdown",
   "metadata": {},
   "source": [
    "# Unsupervised Learning\n",
    "\n",
    "The first part of this exercise will be dedicated to implementing the *K*-means **clustering** algorithm and applying it to compress an image. In the second part, the principal component analysis (PCA) will be used in order to find a low-dimensional representation of face images. \n",
    "\n",
    "## 1 *K*-means clustering algorithm\n",
    "\n",
    "Powerfull unsupervised learning algorithm here will be used for image compression. \n",
    "\n",
    "### 1.1 Implementing *K*-means\n"
   ]
  },
  {
   "cell_type": "code",
   "execution_count": null,
   "metadata": {},
   "outputs": [],
   "source": []
  }
 ],
 "metadata": {
  "kernelspec": {
   "display_name": "Python 3",
   "language": "python",
   "name": "python3"
  },
  "language_info": {
   "codemirror_mode": {
    "name": "ipython",
    "version": 3
   },
   "file_extension": ".py",
   "mimetype": "text/x-python",
   "name": "python",
   "nbconvert_exporter": "python",
   "pygments_lexer": "ipython3",
   "version": "3.7.6"
  }
 },
 "nbformat": 4,
 "nbformat_minor": 4
}
